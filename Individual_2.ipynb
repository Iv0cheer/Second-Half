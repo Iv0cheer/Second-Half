{
  "nbformat": 4,
  "nbformat_minor": 0,
  "metadata": {
    "colab": {
      "provenance": [],
      "authorship_tag": "ABX9TyPcb7HyYpkxTNOKS2CBHk3c",
      "include_colab_link": true
    },
    "kernelspec": {
      "name": "python3",
      "display_name": "Python 3"
    },
    "language_info": {
      "name": "python"
    }
  },
  "cells": [
    {
      "cell_type": "markdown",
      "metadata": {
        "id": "view-in-github",
        "colab_type": "text"
      },
      "source": [
        "<a href=\"https://colab.research.google.com/github/Iv0cheer/Second-Half/blob/main/Individual_2.ipynb\" target=\"_parent\"><img src=\"https://colab.research.google.com/assets/colab-badge.svg\" alt=\"Open In Colab\"/></a>"
      ]
    },
    {
      "cell_type": "code",
      "execution_count": 35,
      "metadata": {
        "id": "-DRvgJ5Zjkbw"
      },
      "outputs": [],
      "source": [
        "class Animal:\n",
        "    max_w = 0\n",
        "    counter = 0\n",
        "    def __init__(self, name, weight):\n",
        "        self.name = name\n",
        "        self.weight = weight\n",
        "        self.hungry = 0\n",
        "        self.water1 = 0\n",
        "        Animal.counter += 1\n",
        "        if Animal.max_w < self.weight:\n",
        "            Animal.max_w = self.weight\n",
        "    \n",
        "    def feed(self):\n",
        "        print(f'Feeding the {self.name}')\n",
        "        print(f'{self.name} feeded.')\n",
        "        self.hungry = 1\n",
        "\n",
        "    def water(self):\n",
        "        print(f'Giving water to {self.name}...')\n",
        "        print(f'Water to {self.name} was given.')\n",
        "        self.water1 = 1\n",
        "\n",
        "class Mammals(Animal):\n",
        "    def __init__(self, name, weight):\n",
        "        self.name = name\n",
        "        self.weight = weight\n",
        "        self.hungry = 0\n",
        "        self.water1 = 0\n",
        "        self.milk = 0\n",
        "        Animal.counter += 1\n",
        "        if Animal.max_w < self.weight:\n",
        "            Animal.max_w = self.weight\n",
        "    \n",
        "    def status(self):\n",
        "        if self.hungry == 0:\n",
        "            self.hung = 'Hungry'\n",
        "        else:\n",
        "            self.hung = 'Not hungry'\n",
        "        if self.water1 == 0:\n",
        "            self.w = 'Need water'\n",
        "        else:\n",
        "             self.w = 'Don`t need water'\n",
        "        print(f'Status of {self.name}: {self.hung}, {self.w}.')\n",
        "        print(f'Milk collected (litres): {self.milk}')\n",
        "    \n",
        "    def to_milk(self):\n",
        "        print(f'Starting to milk a {self.name}')\n",
        "        print(f'{self.name} milked.')\n",
        "        self.milk += 1\n",
        "\n",
        "class Birds(Animal):\n",
        "    def __init__(self, name, weight):\n",
        "        self.name = name\n",
        "        self.weight = weight\n",
        "        Animal.counter += 1\n",
        "        if Animal.max_w < self.weight:\n",
        "            Animal.max_w = self.weight\n",
        "        self.water1 = 0\n",
        "        self.hungry = 0\n",
        "        self.eggs = 0\n",
        "    \n",
        "    def status(self):\n",
        "        if self.hungry == 0:\n",
        "            self.hung = 'Hungry'\n",
        "        else:\n",
        "            self.hung = 'Not hungry'\n",
        "        if self.water1 == 0:\n",
        "            self.w = 'Need water'\n",
        "        else:\n",
        "             self.w = 'Don`t need water'\n",
        "        print(f'Status of {self.name}: {self.hung}, {self.w}')\n",
        "        print(f'Eggs collected: {self.eggs}')\n",
        "    \n",
        "    def collect_egg(self):\n",
        "        print(f'Collecting {self.name}`s eggs.')\n",
        "        self.eggs += 1\n",
        "        print('Eggs Collected')\n",
        "\n",
        "class Sheep(Animal):\n",
        "    def __init__(self, name, weight):\n",
        "        self.name = name\n",
        "        self.weight = weight\n",
        "        self.hungry = 0\n",
        "        self.water1 = 0\n",
        "        self.cutted = 0\n",
        "        Animal.counter += 1\n",
        "\n",
        "    def voice(self):\n",
        "        print(f'-Sheep {self.name}: *Bleating like sheep* Beee-e-ee')\n",
        "    \n",
        "    def cut(self):\n",
        "        print(f'Starting to cut the wool of the {self.name}')\n",
        "        print(f'The wool was cut.')\n",
        "        self.cutted += 1\n",
        "    \n",
        "    def status(self):\n",
        "        if self.hungry == 0:\n",
        "            self.hung = 'Hungry'\n",
        "        else:\n",
        "            self.hung = 'Not hungry'\n",
        "        if self.water1 == 0:\n",
        "            self.w = 'Need water'\n",
        "        else:\n",
        "             self.w = 'Don`t need water'\n",
        "        print(f'Status of {self.name}: {self.hung}, {self.w}.')\n",
        "        print(f'Wool collected (kg): {self.cutted}')\n",
        "\n",
        "class Goose(Birds):\n",
        "    def voice(self):\n",
        "        print(f'-Goose {self.name}: Ga-ga-ga.')\n",
        "\n",
        "class Duck(Birds):\n",
        "    def voice(self):\n",
        "        print(f'-Duck {self.name}: Quack-Quack.')\n",
        "\n",
        "class Chicken(Birds):\n",
        "    def voice(self):\n",
        "        print(f'-Chicken {self.name}: Duck-tah-tah')\n",
        "\n",
        "class Cow(Mammals):\n",
        "    def voice(self):\n",
        "        print(f'-Cow {self.name}: Moo. MOO!')\n",
        "\n",
        "class Goat(Mammals):\n",
        "    def voice(self):\n",
        "        print(f'-Goat {self.name}: *Bleating like goat* Bee-e-e-e.')\n",
        "\n",
        "def devision():\n",
        "    print('-' * 25)"
      ]
    },
    {
      "cell_type": "code",
      "source": [
        "goose1 = Goose('Seriy', 15)\n",
        "goose2 = Goose('Beliy', 13)\n",
        "\n",
        "cow1 = Cow('Manka', 173)\n",
        "\n",
        "sheep1 = Sheep('Barashek', 98)\n",
        "sheep2 = Sheep('Kudryaviy', 132)\n",
        "\n",
        "chicken1 = Chicken('Ko-Ko', 5)\n",
        "chicken2 = Chicken('Kukareku', 3)\n",
        "\n",
        "goat1 = Goat('Roga', 34)\n",
        "goat2 = Goat('Kopita', 27)\n",
        "\n",
        "duck1 = Duck('Kryakva', 4)"
      ],
      "metadata": {
        "id": "UjN2Xby8jpWE"
      },
      "execution_count": 44,
      "outputs": []
    },
    {
      "cell_type": "code",
      "source": [
        "goose1.status()\n",
        "goose1.feed()\n",
        "goose1.collect_egg()\n",
        "print('-' * 15)\n",
        "\n",
        "goose1.status()"
      ],
      "metadata": {
        "colab": {
          "base_uri": "https://localhost:8080/"
        },
        "id": "y9z9VsesjrEX",
        "outputId": "d09c78e7-8b25-42ce-c39e-f5defb6968fc"
      },
      "execution_count": 37,
      "outputs": [
        {
          "output_type": "stream",
          "name": "stdout",
          "text": [
            "Status of Seriy: Hungry, Need water\n",
            "Eggs collected: 0\n",
            "Feeding the Seriy\n",
            "Seriy feeded.\n",
            "Collecting Seriy`s eggs.\n",
            "Eggs Collected\n",
            "---------------\n",
            "Status of Seriy: Not hungry, Need water\n",
            "Eggs collected: 1\n"
          ]
        }
      ]
    },
    {
      "cell_type": "code",
      "source": [
        "cow1.status()\n",
        "cow1.to_milk()\n",
        "cow1.water()\n",
        "print('-' * 15)\n",
        "\n",
        "cow1.status()"
      ],
      "metadata": {
        "colab": {
          "base_uri": "https://localhost:8080/"
        },
        "id": "MmUNrpXbkOFM",
        "outputId": "a185538f-3611-4fd9-983b-4e500d200f35"
      },
      "execution_count": 38,
      "outputs": [
        {
          "output_type": "stream",
          "name": "stdout",
          "text": [
            "Status of Manka: Hungry, Need water.\n",
            "Milk collected (litres): 0\n",
            "Starting to milk a Manka\n",
            "Manka milked.\n",
            "Giving water to Manka...\n",
            "Water to Manka was given.\n",
            "---------------\n",
            "Status of Manka: Hungry, Don`t need water.\n",
            "Milk collected (litres): 1\n"
          ]
        }
      ]
    },
    {
      "cell_type": "code",
      "source": [
        "sheep1.status()\n",
        "sheep1.water()\n",
        "sheep1.cut()\n",
        "print('-' * 15)\n",
        "\n",
        "sheep1.status()"
      ],
      "metadata": {
        "colab": {
          "base_uri": "https://localhost:8080/"
        },
        "id": "A_xoTRtOkZCH",
        "outputId": "94cd06a9-07dc-49e8-846a-e7f54d059e91"
      },
      "execution_count": 39,
      "outputs": [
        {
          "output_type": "stream",
          "name": "stdout",
          "text": [
            "Status of Barashek: Hungry, Need water.\n",
            "Wool collected (kg): 0\n",
            "Giving water to Barashek...\n",
            "Water to Barashek was given.\n",
            "Starting to cut the wool of the Barashek\n",
            "The wool was cut.\n",
            "---------------\n",
            "Status of Barashek: Hungry, Don`t need water.\n",
            "Wool collected (kg): 1\n"
          ]
        }
      ]
    },
    {
      "cell_type": "code",
      "source": [
        "chicken1.status()\n",
        "chicken1.feed()\n",
        "chicken1.collect_egg()\n",
        "print('-' * 15)\n",
        "\n",
        "chicken1.status()"
      ],
      "metadata": {
        "colab": {
          "base_uri": "https://localhost:8080/"
        },
        "id": "GSk_3KEekhnd",
        "outputId": "4b4bc70e-cf81-4a8f-9f17-d7a7acdf01e9"
      },
      "execution_count": 40,
      "outputs": [
        {
          "output_type": "stream",
          "name": "stdout",
          "text": [
            "Status of Ko-Ko: Hungry, Need water\n",
            "Eggs collected: 0\n",
            "Feeding the Ko-Ko\n",
            "Ko-Ko feeded.\n",
            "Collecting Ko-Ko`s eggs.\n",
            "Eggs Collected\n",
            "---------------\n",
            "Status of Ko-Ko: Not hungry, Need water\n",
            "Eggs collected: 1\n"
          ]
        }
      ]
    },
    {
      "cell_type": "code",
      "source": [
        "goat1.status()\n",
        "goat1.feed()\n",
        "goat1.water()\n",
        "goat1.to_milk()\n",
        "print('-' * 15)\n",
        "\n",
        "goat1.status()"
      ],
      "metadata": {
        "colab": {
          "base_uri": "https://localhost:8080/"
        },
        "id": "FURcsOgvkyQC",
        "outputId": "ec643fd4-4dd7-41c5-c610-4d3e9560d58a"
      },
      "execution_count": 41,
      "outputs": [
        {
          "output_type": "stream",
          "name": "stdout",
          "text": [
            "Status of Roga: Hungry, Need water.\n",
            "Milk collected (litres): 0\n",
            "Feeding the Roga\n",
            "Roga feeded.\n",
            "Giving water to Roga...\n",
            "Water to Roga was given.\n",
            "Starting to milk a Roga\n",
            "Roga milked.\n",
            "---------------\n",
            "Status of Roga: Not hungry, Don`t need water.\n",
            "Milk collected (litres): 1\n"
          ]
        }
      ]
    },
    {
      "cell_type": "code",
      "source": [
        "duck1.status()\n",
        "duck1.feed()\n",
        "duck1.water()\n",
        "duck1.collect_egg()\n",
        "print('-' * 15)\n",
        "\n",
        "duck1.status()"
      ],
      "metadata": {
        "colab": {
          "base_uri": "https://localhost:8080/"
        },
        "id": "x1LudtxClBhq",
        "outputId": "65da8b55-0011-41fb-88d6-776783597eb3"
      },
      "execution_count": 42,
      "outputs": [
        {
          "output_type": "stream",
          "name": "stdout",
          "text": [
            "Status of Kryakva: Hungry, Need water\n",
            "Eggs collected: 0\n",
            "Feeding the Kryakva\n",
            "Kryakva feeded.\n",
            "Giving water to Kryakva...\n",
            "Water to Kryakva was given.\n",
            "Collecting Kryakva`s eggs.\n",
            "Eggs Collected\n",
            "---------------\n",
            "Status of Kryakva: Not hungry, Don`t need water\n",
            "Eggs collected: 1\n"
          ]
        }
      ]
    },
    {
      "cell_type": "code",
      "source": [
        "print(f'Max weight of animals: {Animal.max_w} kg')\n",
        "print(f'Counter of animals: {Animal.counter}')"
      ],
      "metadata": {
        "id": "6zBcE5u9l781",
        "outputId": "fdb2056a-a993-40cf-b1e3-40c2b2ffc912",
        "colab": {
          "base_uri": "https://localhost:8080/"
        }
      },
      "execution_count": 43,
      "outputs": [
        {
          "output_type": "stream",
          "name": "stdout",
          "text": [
            "Max weight of animals: 173 kg\n",
            "Counter of animals: 10\n"
          ]
        }
      ]
    }
  ]
}