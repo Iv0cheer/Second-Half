{
  "nbformat": 4,
  "nbformat_minor": 0,
  "metadata": {
    "colab": {
      "provenance": [],
      "collapsed_sections": [
        "GrTCcs7bBIGT",
        "UEXYmqVNBTbH"
      ],
      "authorship_tag": "ABX9TyMQWZSmd2QBKrwVmDwGLZr1",
      "include_colab_link": true
    },
    "kernelspec": {
      "name": "python3",
      "display_name": "Python 3"
    },
    "language_info": {
      "name": "python"
    }
  },
  "cells": [
    {
      "cell_type": "markdown",
      "metadata": {
        "id": "view-in-github",
        "colab_type": "text"
      },
      "source": [
        "<a href=\"https://colab.research.google.com/github/Iv0cheer/Second-Half/blob/main/LectionT.ipynb\" target=\"_parent\"><img src=\"https://colab.research.google.com/assets/colab-badge.svg\" alt=\"Open In Colab\"/></a>"
      ]
    },
    {
      "cell_type": "markdown",
      "source": [
        "# 1.3.1 Тип"
      ],
      "metadata": {
        "id": "GrTCcs7bBIGT"
      }
    },
    {
      "cell_type": "code",
      "execution_count": null,
      "metadata": {
        "colab": {
          "base_uri": "https://localhost:8080/"
        },
        "id": "YWZlsd5e7Fby",
        "outputId": "190eba76-75b9-400d-e932-4ad1d5cded66"
      },
      "outputs": [
        {
          "output_type": "execute_result",
          "data": {
            "text/plain": [
              "str"
            ]
          },
          "metadata": {},
          "execution_count": 2
        }
      ],
      "source": [
        "s = 'Это строка'\n",
        "type(s)"
      ]
    },
    {
      "cell_type": "code",
      "source": [
        "x = 42 # Создание переменной целочисленного типа\n",
        "type(x)"
      ],
      "metadata": {
        "colab": {
          "base_uri": "https://localhost:8080/"
        },
        "id": "NdKAt6T3BRxX",
        "outputId": "5107b67e-925e-4d18-f840-8edc737f5fad"
      },
      "execution_count": null,
      "outputs": [
        {
          "output_type": "execute_result",
          "data": {
            "text/plain": [
              "int"
            ]
          },
          "metadata": {},
          "execution_count": 3
        }
      ]
    },
    {
      "cell_type": "code",
      "source": [
        "'300' + 'cc'"
      ],
      "metadata": {
        "colab": {
          "base_uri": "https://localhost:8080/",
          "height": 36
        },
        "id": "gVZBvx-vBjt6",
        "outputId": "298dca76-3a93-4d59-c255-2b37a280b96b"
      },
      "execution_count": null,
      "outputs": [
        {
          "output_type": "execute_result",
          "data": {
            "text/plain": [
              "'300cc'"
            ],
            "application/vnd.google.colaboratory.intrinsic+json": {
              "type": "string"
            }
          },
          "metadata": {},
          "execution_count": 4
        }
      ]
    },
    {
      "cell_type": "code",
      "source": [
        "int('300') + 400 "
      ],
      "metadata": {
        "colab": {
          "base_uri": "https://localhost:8080/"
        },
        "id": "q548U5XZBpvA",
        "outputId": "0ebf7ec2-aa65-4883-8c62-77c8b87b690e"
      },
      "execution_count": null,
      "outputs": [
        {
          "output_type": "execute_result",
          "data": {
            "text/plain": [
              "700"
            ]
          },
          "metadata": {},
          "execution_count": 5
        }
      ]
    },
    {
      "cell_type": "markdown",
      "source": [
        "# 1.3.2 Идентификация"
      ],
      "metadata": {
        "id": "UEXYmqVNBTbH"
      }
    },
    {
      "cell_type": "code",
      "source": [
        "y = 2.5\n",
        "z = 2.5\n",
        "print(id(y))\n",
        "print(id(z))"
      ],
      "metadata": {
        "colab": {
          "base_uri": "https://localhost:8080/"
        },
        "id": "AKncm5qPB17D",
        "outputId": "07991378-e8a1-49e7-a0b9-403f209d0f7b"
      },
      "execution_count": null,
      "outputs": [
        {
          "output_type": "stream",
          "name": "stdout",
          "text": [
            "140236390928976\n",
            "140236390928624\n"
          ]
        }
      ]
    },
    {
      "cell_type": "markdown",
      "source": [
        "# 1.3.3 Содержимое объекта: данные и атрибуты "
      ],
      "metadata": {
        "id": "wn4_uw6PCAU_"
      }
    },
    {
      "cell_type": "code",
      "source": [
        "x = 42\n",
        "x\n",
        "\n",
        "# Two attributes \"imag\" & \"class\"\n",
        "print(x.imag) \n",
        "print(x.__class__)"
      ],
      "metadata": {
        "colab": {
          "base_uri": "https://localhost:8080/"
        },
        "id": "BHM7uhvJCCz3",
        "outputId": "9461202c-0643-4a34-82cb-4d611c1daec3"
      },
      "execution_count": null,
      "outputs": [
        {
          "output_type": "stream",
          "name": "stdout",
          "text": [
            "0\n",
            "<class 'int'>\n"
          ]
        }
      ]
    },
    {
      "cell_type": "markdown",
      "source": [
        "# 1.3.4 Методы"
      ],
      "metadata": {
        "id": "T70V4YxYCV7V"
      }
    },
    {
      "cell_type": "code",
      "source": [
        "x = ['foo', 'bar']\n",
        "\n",
        "# Callable means is that command callable to that \"x\"\n",
        "print(callable(x.append)) # True\n",
        "print(callable(x.__doc__)) # False"
      ],
      "metadata": {
        "colab": {
          "base_uri": "https://localhost:8080/"
        },
        "id": "Q25uHyDmCRap",
        "outputId": "4f2fe2a3-4b03-401b-a0b0-f88ebae00fe4"
      },
      "execution_count": null,
      "outputs": [
        {
          "output_type": "stream",
          "name": "stdout",
          "text": [
            "True\n",
            "False\n"
          ]
        }
      ]
    },
    {
      "cell_type": "code",
      "source": [
        "x = ['a', 'b']\n",
        "x.append('c')\n",
        "print(x)\n",
        "\n",
        "s = 'This is a string'\n",
        "print(s.upper())\n",
        "print(s.lower())\n",
        "\n",
        "s.replace('this', 'that')\n",
        "print(s)"
      ],
      "metadata": {
        "colab": {
          "base_uri": "https://localhost:8080/"
        },
        "id": "VGqTVMe7CtRO",
        "outputId": "d2b507fc-9eed-4b44-ec42-ebea30a00721"
      },
      "execution_count": null,
      "outputs": [
        {
          "output_type": "stream",
          "name": "stdout",
          "text": [
            "['a', 'b', 'c']\n",
            "THIS IS A STRING\n",
            "this is a string\n",
            "This is a string\n"
          ]
        }
      ]
    },
    {
      "cell_type": "code",
      "source": [
        "x = ['a', 'b']\n",
        "x[0] = 'aa'\n",
        "# Присвоение элемента с помощью обозначения квадратных скобок\n",
        "print(x)\n",
        "\n",
        "\n",
        "# Код выше вызывает __setitem__\n",
        "\n",
        "y = ['a', 'b']\n",
        "y.__setitem__(0, 'aa') # Equivalent to y[0] = 'aa'\n",
        "print(y)"
      ],
      "metadata": {
        "colab": {
          "base_uri": "https://localhost:8080/"
        },
        "id": "qOgaWbJIDHdP",
        "outputId": "e84e6536-074d-4a1a-fa4e-fb88b143919b"
      },
      "execution_count": null,
      "outputs": [
        {
          "output_type": "stream",
          "name": "stdout",
          "text": [
            "['aa', 'b']\n",
            "['aa', 'b']\n"
          ]
        }
      ]
    },
    {
      "cell_type": "markdown",
      "source": [
        "# Классы 1.4"
      ],
      "metadata": {
        "id": "nZEA7DplDg64"
      }
    },
    {
      "cell_type": "markdown",
      "source": [
        "Синтаксис:\n",
        "\n",
        "```\n",
        "class Human:\n",
        "    def h_1(self):\n",
        "        pass\n",
        "```"
      ],
      "metadata": {
        "id": "nK0EgiMYDy3k"
      }
    },
    {
      "cell_type": "code",
      "source": [
        "class Car:\n",
        "    pass"
      ],
      "metadata": {
        "id": "ZcAQBhuwDxcq"
      },
      "execution_count": null,
      "outputs": []
    },
    {
      "cell_type": "markdown",
      "source": [
        "#1.4.1 Определение собственных объектов\n",
        "\n",
        "Чтобы создать объект класса, нужно воспользоваться следующим\n",
        "синтаксисом:\n",
        "```\n",
        "<имя_объекта> = <имя_класса>()\n",
        "И в качестве примера создадим объект класса Car:\n",
        "car_object = Car() "
      ],
      "metadata": {
        "id": "XEv-3xhQECZy"
      }
    },
    {
      "cell_type": "code",
      "source": [
        "car_object = Car()\n",
        "\n",
        "type(car_object)"
      ],
      "metadata": {
        "colab": {
          "base_uri": "https://localhost:8080/"
        },
        "id": "0WzN1QCPEBuv",
        "outputId": "596640fd-c450-47f8-d1a1-65482d6fbd99"
      },
      "execution_count": null,
      "outputs": [
        {
          "output_type": "execute_result",
          "data": {
            "text/plain": [
              "__main__.Car"
            ]
          },
          "metadata": {},
          "execution_count": 26
        }
      ]
    },
    {
      "cell_type": "markdown",
      "source": [
        "#1.4.2 Атрибуты класса в Python \n",
        "\n",
        "Атрибутом класса/объекта называется любой элемент класса/объекта\n",
        "(переменную, метод, подкласс), на который можно сослаться через символ\n",
        "точки. Например:\n",
        "\n",
        "MyClass.<атрибут> или my_object.<атрибут>.\n",
        "\n",
        "Все атрибуты можно разделить на 2 группы:\n",
        "\n",
        "* встроенные(служебные) атрибуты;\n",
        "* пользовательские атрибуты. \n"
      ],
      "metadata": {
        "id": "oU57XDRJETL3"
      }
    },
    {
      "cell_type": "markdown",
      "source": [
        "#1.4.2.1 Встроенные атрибуты\n",
        "\n",
        "Все классы, начиная с 3-й версии Python, имеют один общий родительский\n",
        "класс – object. Это значит, что когда создается новый класс, он неявно\n",
        "наследуется от класса object, и потому новый класс наследует все его атрибуты.\n",
        "Именно их и называют встроенными(служебными).\n",
        "\n",
        "```\n",
        "__new__(cls[, ...]) Конструктор. Создает экземпляр(объект) класса. Сам класс передается в качестве аргумента\n",
        "\n",
        "__init__(self[, ...]) Инициализатор. Принимает объект класса из конструктора\n",
        "\n",
        "__del__(self) Деструктор. Вызывается при удалении объекта сборщиком мусора\n",
        "\n",
        "__str__(self) Возвращает строковое представление объекта\n",
        "\n",
        "__hash__(self) Возвращает хэш-сумму объекта\n",
        "\n",
        "__setattr__(self,attr, val) Создает новый атрибут для объекта класса с именем attr и значением val\n",
        "\n",
        "__doc__ Документация класса\n",
        "\n",
        "__dict__ Словарь, в котором хранится пространство имен класса\n",
        "```"
      ],
      "metadata": {
        "id": "HEn3D5uSEfiG"
      }
    },
    {
      "cell_type": "markdown",
      "source": [
        "В теории ООП конструктор класса – это специальный блок инструкций,\n",
        "который вызывается при создании объекта. При написании кода считается, что\n",
        "метод __init__(self) – это и есть конструктор, но это не совсем так. \n",
        "\n",
        "При создании объекта в Python вызывается метод __new__(cls, *args, **kwargs) – он является\n",
        "конструктором класса. Метод __init__() является инициализатором класса.\n",
        "Этот метод первый принимает созданный конструктором объект"
      ],
      "metadata": {
        "id": "ncc_6HvkFum7"
      }
    },
    {
      "cell_type": "markdown",
      "source": [
        "# 1.4.2.2 Пользовательские атрибуты\n",
        "\n",
        "Это атрибуты, которые непосредственно составляют основной\n",
        "функционал класса. Если служебные атрибуты наследуются от базового класса\n",
        "object, то пользовательские – **пишутся программистом** во время реализации\n",
        "класса."
      ],
      "metadata": {
        "id": "STuAg_VRF1j5"
      }
    },
    {
      "cell_type": "code",
      "source": [
        "class Car:\n",
        "    color = 'Grey'\n",
        "    def drive(self):\n",
        "      pass\n",
        "    def price(self):\n",
        "      pass \n"
      ],
      "metadata": {
        "id": "-szpey0wD_o0"
      },
      "execution_count": null,
      "outputs": []
    },
    {
      "cell_type": "code",
      "source": [
        "car_object = Car()\n",
        "dir(car_object)\n",
        "['__class__',\n",
        " '__delattr__',\n",
        " '__dict__',\n",
        " '__dir__',\n",
        " '__doc__',\n",
        " '__init__',\n",
        " '__init_subclass__',\n",
        " 'color',\n",
        " 'drive',\n",
        " 'price'] \n"
      ],
      "metadata": {
        "colab": {
          "base_uri": "https://localhost:8080/"
        },
        "id": "cLkCh7PxGEHh",
        "outputId": "fd1b7440-43f7-493d-b37b-f54ab769bc89"
      },
      "execution_count": null,
      "outputs": [
        {
          "output_type": "execute_result",
          "data": {
            "text/plain": [
              "['__class__',\n",
              " '__delattr__',\n",
              " '__dict__',\n",
              " '__dir__',\n",
              " '__doc__',\n",
              " '__init__',\n",
              " '__init_subclass__',\n",
              " 'color',\n",
              " 'drive',\n",
              " 'price']"
            ]
          },
          "metadata": {},
          "execution_count": 32
        }
      ]
    },
    {
      "cell_type": "markdown",
      "source": [
        "# 1.4.3 Поля (свойства) класса в Python\n",
        "Поля(свойства или переменные) делятся на две основные группы:\n",
        "* статические поля;\n",
        "* динамические поля"
      ],
      "metadata": {
        "id": "-HhGW1PBGfAj"
      }
    },
    {
      "cell_type": "markdown",
      "source": [
        "#1.4.3.1 Статические поля (переменные или свойства класса)\n",
        "Это переменные, которые объявляются внутри тела класса и создаются\n",
        "тогда, когда создается класс. Создали класса – создалась переменная. "
      ],
      "metadata": {
        "id": "Bloz6XQ6GrMI"
      }
    },
    {
      "cell_type": "code",
      "source": [
        "class Car:\n",
        "    # Статические поля (переменные класса) - def_color & def_model\n",
        "    def_color = 'Grey'\n",
        "    def_model = 'BMW'\n",
        "    def drive(self):\n",
        "        pass\n",
        "    def price(self):\n",
        "        pass\n",
        "\n",
        "a = Car()\n",
        "a.def_model\n",
        "a.def_color"
      ],
      "metadata": {
        "colab": {
          "base_uri": "https://localhost:8080/",
          "height": 36
        },
        "id": "O_V0_5A2G2zw",
        "outputId": "bb8ee35f-59bc-458a-bebc-4d9acbdd45d3"
      },
      "execution_count": null,
      "outputs": [
        {
          "output_type": "execute_result",
          "data": {
            "text/plain": [
              "'Grey'"
            ],
            "application/vnd.google.colaboratory.intrinsic+json": {
              "type": "string"
            }
          },
          "metadata": {},
          "execution_count": 37
        }
      ]
    },
    {
      "cell_type": "markdown",
      "source": [
        "#1.4.3.2 Динамические поля (переменные или свойства экземпляра класса)\n",
        "\n",
        "Это переменные, которые создаются на уровне экземпляра класса. Нет\n",
        "экземпляра - нет его переменных. Для создания динамического свойства\n",
        "необходимо обратиться к self внутри метода. Рассмотрим пример.\n"
      ],
      "metadata": {
        "id": "Qqh5n66hG1Kg"
      }
    },
    {
      "cell_type": "code",
      "source": [
        "class Car_1:\n",
        "# Статические поля (переменные класса)\n",
        "    default_color = 'Grey'\n",
        "    default_model = 'BMW'\n",
        "    def __init__(self, color, model):\n",
        "# Динамические поля (переменные объекта)\n",
        "        self.color = color\n",
        "        self.model = model\n",
        "\n",
        "d = Car_1('Red', 'BMW')\n",
        "print(d.color)\n",
        "print(d.model)"
      ],
      "metadata": {
        "colab": {
          "base_uri": "https://localhost:8080/"
        },
        "id": "36oCPMa5H2RC",
        "outputId": "c5a97052-4288-443c-e9e2-857c0d50bef5"
      },
      "execution_count": null,
      "outputs": [
        {
          "output_type": "stream",
          "name": "stdout",
          "text": [
            "Red\n",
            "BMW\n"
          ]
        }
      ]
    },
    {
      "cell_type": "markdown",
      "source": [
        "#1.4.4 Методы класса\n",
        "Функции внутри класса называются методами. Определяют три основных\n",
        "группы:\n",
        "1. методы экземпляра класса;\n",
        "2. статические методы;\n",
        "3. методы класса"
      ],
      "metadata": {
        "id": "WKis75hMLdob"
      }
    },
    {
      "cell_type": "markdown",
      "source": [
        "#1.4.4.1 Методы экземпляра класса\n",
        "Это группа методов, которые становятся доступны только после создания\n",
        "экземпляра класса, то есть чтобы вызвать такой метод, надо обратиться к\n",
        "экземпляру. Как следствие – первым параметром такого метода является\n",
        "слово **self**. С помощью данного параметра в метод передается ссылка на объект\n",
        "класса, для которого он был вызван. Рассмотрим пример"
      ],
      "metadata": {
        "id": "7byMTUb8Lj0O"
      }
    },
    {
      "cell_type": "code",
      "source": [
        "class Car_2:\n",
        "    def __init__(self, color, model):\n",
        "      self.color = color\n",
        "      self.model = model\n",
        "    # Методы экземпляра класса\n",
        "    # Первый параметр метода - self\n",
        "    def check_sim(self, country):\n",
        "        if self.model == 'BMW' and country == 'Germany':\n",
        "            print('Your car is good')\n",
        "        else:\n",
        "            print('Your car not as good, as it possible')\n",
        "\n",
        "a = Car_2('Red', 'BMW')\n",
        "a.check_sim('Germany')"
      ],
      "metadata": {
        "colab": {
          "base_uri": "https://localhost:8080/"
        },
        "id": "LIvmpt5SLm_P",
        "outputId": "66f03764-2f76-4b5f-8ce0-4e056b42a3d0"
      },
      "execution_count": null,
      "outputs": [
        {
          "output_type": "stream",
          "name": "stdout",
          "text": [
            "Your car is good\n"
          ]
        }
      ]
    },
    {
      "cell_type": "markdown",
      "source": [
        "**1.4.4.2 Статические методы**\n",
        "Статические методы – это функции, которые помещены в класс и\n",
        "располагаются в области видимости этого класса. Особенность заключается в\n",
        "том, что данные методы можно вызывать посредством обращения к имени\n",
        "класса, создавать объект класса при этом не обязательно. В таких методах не\n",
        "используется self – этому методу не важна информация об объектах класса.\n",
        "Чтобы создать статический метод в Python, необходимо воспользоваться\n",
        "специальным декоратором - **@staticmethod**.\n"
      ],
      "metadata": {
        "id": "7e9V2s-VMvDn"
      }
    },
    {
      "cell_type": "code",
      "source": [
        "import hashlib\n",
        "class Car:\n",
        "    # Статический метод справочного характера\n",
        "    # Возвращает хэш по номеру модели\n",
        "    # self внутри метода отсутствует\n",
        "    @staticmethod\n",
        "    def model_hash(model):\n",
        "        if model == 'BMW':\n",
        "            return 'the machine series is not defined in'\n",
        "        elif model == 'BMW X6':\n",
        "            return hash(model)\n",
        "        else:\n",
        "            return 'The manufacturer is not defined'\n",
        " # Обычный метод\n",
        "    def check_model(self, model):\n",
        "        pass\n",
        "\n",
        "a = Car()\n",
        "print(a.check_model('X6'))\n",
        "print(a.model_hash('BMW X6'))"
      ],
      "metadata": {
        "colab": {
          "base_uri": "https://localhost:8080/"
        },
        "id": "r9bpAm-WM9uA",
        "outputId": "1e1be8d2-2a66-4f2b-886f-f069924c893f"
      },
      "execution_count": null,
      "outputs": [
        {
          "output_type": "stream",
          "name": "stdout",
          "text": [
            "None\n",
            "-1031916484607774956\n"
          ]
        }
      ]
    },
    {
      "cell_type": "markdown",
      "source": [
        "#1.4.4.3 Методы класса\n",
        "Методы класса являются средним между обычными методами (привязаны к\n",
        "объекту) и статическими методами (привязаны только к области видимости).\n",
        "Такие методы могут менять состояние самого класса, что в свою очередь\n",
        "отражается на ВСЕХ экземплярах данного класса. При этом менять конкретный\n",
        "объект класса они не могут (этим занимаются методы экземпляра класса).\n",
        "Чтобы создать метод класса, необходимо воспользоваться соответствующим\n",
        "декоратором - **@ assmethod**. При этом в качестве первого параметра такого\n",
        "метода передается служебное слово **cls**, которое в отличие от **self** является\n",
        "ссылкой на сам класс (а не на объект). Рассмотрим пример. "
      ],
      "metadata": {
        "id": "w-S3EqrLUCL1"
      }
    },
    {
      "cell_type": "code",
      "source": [
        "class Car:\n",
        "    def __init__(self, color, model):\n",
        "        self.color = color\n",
        "        self.model = model\n",
        "        self.price = price\n",
        "    # Метод класса\n",
        "    # Принимает 1) ссылку на класс Car и 2) цвет в качестве параметров\n",
        "    # Создает специфический объект класса Car(особенность объекта в том,\n",
        "    # что это модель от завода изготовителя)\n",
        "    # При этом вызывается инициализатор класса Car\n",
        "    # которому в качестве аргументов передается цвет и модель,\n",
        "    # соответствующую оригинальной машины\n",
        "    @classmethod\n",
        "    def origin_car(cls, color):\n",
        "        origin_car = cls(color, 'Origin Car from Germany', None)\n",
        "        return origin_car\n",
        "\n",
        "\n",
        "    # Статический метод\n",
        "    @staticmethod\n",
        "    def model_hash(model):\n",
        "        if model == 'BMW':\n",
        "            return 'the machine series is not defined in'\n",
        "        elif model == 'BMW X6':\n",
        "            return hash(model)\n",
        "        else:\n",
        "            return 'The manufacturer is not defined'\n",
        "\n",
        "\n",
        "    # Обычный метод\n",
        "        def check_model(self, model):\n",
        "            pass \n"
      ],
      "metadata": {
        "id": "RSw72XAFUF35"
      },
      "execution_count": null,
      "outputs": []
    },
    {
      "cell_type": "markdown",
      "source": [
        "#1.4.5 Метод __init__()\n",
        "Метод класса __init __() – специальный метод, который при создании\n",
        "экземпляра класса автоматически создает ему атрибуты (указывается два\n",
        "нижних подчеркивания слева и справа). Синтаксис:\n",
        "```\n",
        "def __init __(self [, список передаваемых аргументов]):\n",
        "self.имя_аргумента=передаваемый аргумент(значение)\n",
        "```\n",
        "\n",
        "\n",
        "При этом некоторые аргументы можно задать по умолчанию. Тогда в\n",
        "случае отсутствия значения аргумента его значение будет установлено по\n",
        "умолчанию.\n",
        "Использование ссылки на экземпляр класса позволяет на основе уже\n",
        "существующего экземпляра создать новый экземпляр класса простым\n",
        "присвоением. Рассмотрим пример. \n"
      ],
      "metadata": {
        "id": "flDtsu8hVV_v"
      }
    },
    {
      "cell_type": "code",
      "source": [
        "class student:\n",
        "    def __init__(self, kurs, idl):\n",
        "        self.kurs = kurs\n",
        "        self.id =idl\n",
        "\n",
        "idl = input(' Введите идентификатор студента: ')\n",
        "kurs = input(' Введите курс студента : ')\n",
        "\n",
        "studentl = student ( kurs, idl ) # создание экземпляра\n",
        "print ('Курс :', studentl.kurs, studentl.id, sep = ' ')\n",
        "student2 = studentl\n",
        "idl = input(' В ведите идентификатор 2-го студента: ')\n",
        "student2.id =idl\n",
        "print('Курс: 1', studentl.kurs, studentl.id, sep = ' ')\n",
        "kurs=input( 'Введите новый курс студентов: ')\n",
        "studentl.kurs = kurs\n",
        "\n",
        "print('Новый курс : ', studentl.kurs , 'Идентификатор:',\n",
        "studentl.id, sep = ' ')\n",
        "print('Новый курс : ', student2.kurs, 'Идентификато2р:',\n",
        "student2.id, sep = ' ') "
      ],
      "metadata": {
        "colab": {
          "base_uri": "https://localhost:8080/"
        },
        "id": "OFTSgIfKVbun",
        "outputId": "af97bccf-3486-47e9-db62-6d71bc2ca3ae"
      },
      "execution_count": null,
      "outputs": [
        {
          "output_type": "stream",
          "name": "stdout",
          "text": [
            " Введите идентификатор студента: 1\n",
            " Введите курс студента : 2\n",
            "Курс : 2 1\n",
            " В ведите идентификатор 2-го студента: 2\n",
            "Курс: 1 2 2\n",
            "Введите новый курс студентов: 2\n",
            "Новый курс :  2 Идентификатор: 2\n",
            "Новый курс :  2 Идентификато2р: 2\n"
          ]
        }
      ]
    },
    {
      "cell_type": "markdown",
      "source": [
        "# **Пример Класс Consumer**\n",
        "Создать класс Потребитель (Customer). с атрибутом достатка, в котором\n",
        "хранится текущее материальное состояние (данные) потребителя, метод\n",
        "заработка, где метод заработка (y) увеличивает достаток потребителя на y, метод\n",
        "расходов, где трата (x) либо уменьшает достаток на x, либо возвращается\n",
        "значение ошибка, если недостаточно средств.\n",
        "Определим две функции earn и spend."
      ],
      "metadata": {
        "id": "eQg0BVzUVwOA"
      }
    },
    {
      "cell_type": "code",
      "source": [
        "def earn(w, y):\n",
        "    \"Потребитель с первоначальным достатком w зарабатывает y\"\n",
        "    return w+y\n",
        "def spend(w, x):\n",
        "    \" Потребитель с начальным достатком w тратит x \"\n",
        "    new_wealth = w - x\n",
        "    if new_wealth < 0:\n",
        "        print(\"Insufficient funds\")\n",
        "    else:\n",
        "        return new_wealth "
      ],
      "metadata": {
        "id": "5rBT-sQXV6U-"
      },
      "execution_count": null,
      "outputs": []
    },
    {
      "cell_type": "code",
      "source": [
        "w0=100\n",
        "w1=earn(w0,10)\n",
        "w2=spend(w1,20)\n",
        "w3=earn(w2,10)\n",
        "w4=spend(w3,20)\n",
        "print(\"w0,w1,w2,w3,w4 = \", w0,w1,w2,w3,w4) \n",
        "\n",
        "w5 = spend(w4, 90)"
      ],
      "metadata": {
        "colab": {
          "base_uri": "https://localhost:8080/"
        },
        "id": "TqU5nLCfWKRR",
        "outputId": "aeba0159-cefb-4e77-ddc1-ed4084e3b841"
      },
      "execution_count": null,
      "outputs": [
        {
          "output_type": "stream",
          "name": "stdout",
          "text": [
            "w0,w1,w2,w3,w4 =  100 110 90 100 80\n",
            "Insufficient funds\n"
          ]
        }
      ]
    },
    {
      "cell_type": "markdown",
      "source": [
        "#Класс **Consumer** создается с целью помочь усвоить специфический\n",
        "синтаксис при создании классов на языке Python. Пример класса Consumer\n",
        "представлен ниже."
      ],
      "metadata": {
        "id": "hsPpGoqLWTjh"
      }
    },
    {
      "cell_type": "code",
      "source": [
        "class Consumer:\n",
        "    def __init__(self, w):\n",
        "        \"Initialize consumer with w dollars of wealth\"\n",
        "        self.wealth = w\n",
        "    def earn(self, y):\n",
        "        \"The consumer earns y dollars\"\n",
        "        self.wealth += y\n",
        "    def spend(self, x):\n",
        "        \"The consumer spends x dollars if feasible\"\n",
        "        new_wealth = self.wealth - x\n",
        "        if new_wealth < 0:\n",
        "            print(\"Insufficent funds\")\n",
        "        else:\n",
        "            self.wealth = new_wealth \n"
      ],
      "metadata": {
        "id": "pAzDH9JlWlpK"
      },
      "execution_count": null,
      "outputs": []
    },
    {
      "cell_type": "code",
      "source": [
        "c1 = Consumer(10) # Create instance with initial wealth\n",
        "10\n",
        "c1.spend(5)\n",
        "print(\"c1 = \", c1.wealth)\n",
        "c1.earn(15)\n",
        "print(\"c1 = \", c1.wealth)\n",
        "c1.spend(100)\n",
        "print(\"c1 = \", c1.wealth)\n",
        "c1 = Consumer(10)\n",
        "c2 = Consumer(12)\n",
        "c2.spend(4)\n",
        "print(\"c1 = \", c1.wealth)\n",
        "c2.wealth\n",
        "print(\"c2 = \", c2.wealth)\n",
        "\n",
        "print(c1.__dict__)\n",
        "print(c2.__dict__)"
      ],
      "metadata": {
        "colab": {
          "base_uri": "https://localhost:8080/"
        },
        "id": "fdeRFHX2W0-E",
        "outputId": "87834b28-7fb3-4f6b-91a6-f0188058dcea"
      },
      "execution_count": null,
      "outputs": [
        {
          "output_type": "stream",
          "name": "stdout",
          "text": [
            "c1 =  5\n",
            "c1 =  20\n",
            "Insufficent funds\n",
            "c1 =  20\n",
            "c1 =  10\n",
            "c2 =  8\n",
            "{'wealth': 10}\n",
            "{'wealth': 8}\n"
          ]
        }
      ]
    },
    {
      "cell_type": "markdown",
      "source": [
        "# Правила использования self при создании класса:\n",
        "*  любые данные экземпляра должны начинаться с обращения к служебному\n",
        "слову **self**. Например, метод **wealth** использует **self.wealth**, а не просто **wealth**;\n",
        "*  метод, определенный в коде, определяющем класс, должен иметь self в\n",
        "качестве первого аргумента, например, **defear(self,y)**, а не просто **defear(y)**;\n",
        "*  любой метод, на который ссылается класс, должен вызываться как\n",
        "**self.method_name**.\n"
      ],
      "metadata": {
        "id": "fByj0fcCXDVe"
      }
    },
    {
      "cell_type": "code",
      "source": [
        "c1 = Consumer(10)\n",
        "c1.earn(10)\n",
        "c1.wealth\n",
        "\n",
        "c1.__dict__"
      ],
      "metadata": {
        "colab": {
          "base_uri": "https://localhost:8080/"
        },
        "id": "oWFNDgPoXQWU",
        "outputId": "eed0a8d4-f3fe-4e65-dfb5-53331c79644b"
      },
      "execution_count": null,
      "outputs": [
        {
          "output_type": "execute_result",
          "data": {
            "text/plain": [
              "{'wealth': 20}"
            ]
          },
          "metadata": {},
          "execution_count": 68
        }
      ]
    },
    {
      "cell_type": "code",
      "source": [
        "c1.earn(10)\n",
        "Consumer.earn(c1, 10) # Equalent to upper code"
      ],
      "metadata": {
        "colab": {
          "base_uri": "https://localhost:8080/"
        },
        "id": "X4oofvJPXYop",
        "outputId": "d12aeb97-5b7a-44b1-b94c-00b8237ea33e"
      },
      "execution_count": null,
      "outputs": [
        {
          "output_type": "stream",
          "name": "stdout",
          "text": [
            "<__main__.Consumer object at 0x7f8b2ff1f3a0>\n"
          ]
        }
      ]
    },
    {
      "cell_type": "code",
      "source": [
        "def earn(self, y):\n",
        "    \"The consumer earns y dollars\"\n",
        "    self.wealth += y \n"
      ],
      "metadata": {
        "id": "kli3GXx0Xipf"
      },
      "execution_count": null,
      "outputs": []
    },
    {
      "cell_type": "markdown",
      "source": [
        "# Пример Модель роста Солоу\n",
        "Модель роста Солоу [7], разработанная лауреатом Нобелевской премии\n",
        "экономистом Робертом Солоу, была первой неоклассической моделью роста и\n",
        "была построена на кейнсианской модели Харрода-Домара [8]. Модель Солоу\n",
        "является основой современной теории экономического роста.\n",
        "Определим простой класс для реализации модели роста Солоу. Модель\n",
        "роста Солоу – это неоклассическая модель роста, в которой основной капитал на\n",
        "душу населения k_t изменяется по правилу:\n",
        "\n",
        "k_{t+1} = [(s z k^α_t) + (1 - δ)k_t] /(1 + n) . (1.1)\n",
        "\n",
        "s – заданная норма сбережений,\n",
        "\n",
        "z – параметр производительности,\n",
        "\n",
        "\\alpha – доля капитала в доходе,\n",
        "\n",
        "n – темпы роста населения,\n",
        "\n",
        "\\delta – норма амортизации.\n",
        "\n",
        "Стационарное состояние модели – это k, которое имеет решения при\n",
        "условии: \n",
        "\n",
        "k_{t+1} = k_t = k. \n",
        "\n",
        "Класс, который реализует эту модель представлен\n",
        "ниже. "
      ],
      "metadata": {
        "id": "U5_tO8tjXqVx"
      }
    },
    {
      "cell_type": "code",
      "source": [
        "class Solow:\n",
        "    #Реализует модель роста Солоу с правилом обновления\n",
        "\n",
        "    # k_{t+1} = [(s z k^α_t) + (1 - δ)k_t] /(1 + n)\n",
        "\n",
        "    def __init__(self, \n",
        "                 n=0.05, # темпы прироста населения\n",
        "                 s=0.25, # норма сбережений\n",
        "                 δ=0.1, # норма амортизации\n",
        "                 α=0.3, # доля рабочей силы\n",
        "                 z=2.0, # производительность\n",
        "                 k=1.0): # текущий основной капитал\n",
        "        self.n, self.s, self.δ, self.α, self.z = n, s, δ, α, z\n",
        "        self.k = k\n",
        "    def h(self):\n",
        "        print(\" Оценка функции h\")\n",
        "        # Распаковка параметров\n",
        "        #(избавляемся от self для упрощения обозначения)\n",
        "        n, s, δ, α, z = self.n, self.s, self.δ, self.α, self.z\n",
        "        # обновляем на выходе h\n",
        "        return (s * z * self.k**α + (1 - δ) * self.k) / (1 + n)\n",
        "    def update(self):\n",
        "        print(\"Обновляем состояние (основной капитал)\")\n",
        "        self.k = self.h()\n",
        "    def steady_state(self):\n",
        "        print(\" Вычисляем устойчивую стоимость капитала.\")\n",
        "        #(избавляемся от self для упрощения обозначения)\n",
        "        n, s, δ, α, z = self.n, self.s, self.δ, self.α, self.z\n",
        "        # Вычисление и возврат устойчивого состояния\n",
        "        return ((s * z) / (n + δ))**(1 / (1 - α))\n",
        "    def generate_sequence(self, t):\n",
        "        print(\"Генерация и возврат временного ряда\")\n",
        "        path = []\n",
        "        for i in range(t):\n",
        "            path.append(self.k)\n",
        "            self.update()\n",
        "        return path"
      ],
      "metadata": {
        "id": "KhiEbwG-XimJ"
      },
      "execution_count": null,
      "outputs": []
    },
    {
      "cell_type": "code",
      "source": [
        "import matplotlib.pyplot as plt\n",
        "\n",
        "s1 = Solow()\n",
        "s2 = Solow(k=8.0)\n",
        "T = 60\n",
        "fig, ax = plt.subplots(figsize=(9, 6))\n",
        "\n",
        "# Построение графика общей установившейся стоимости капитала\n",
        "ax.plot([s1.steady_state()]*T, 'k-', label='устойчивое состояние')\n",
        "\n",
        "# Построение временных рядов для каждой экономики\n",
        "for s in s1, s2:\n",
        "    lb = f' основной ряд от первоначального состояния {s.k}'\n",
        "    ax.plot(s.generate_sequence(T), 'o-', lw=2, alpha=0.6, label=lb)\n",
        "ax.set_xlabel('$t$', fontsize=14)\n",
        "ax.set_ylabel('$k_t$', fontsize=14)\n",
        "ax.legend()\n",
        "plt.show()"
      ],
      "metadata": {
        "colab": {
          "base_uri": "https://localhost:8080/",
          "height": 1000
        },
        "id": "Bdd0o1e2YyeZ",
        "outputId": "36450be1-f808-4b9f-c100-df02e69ce750"
      },
      "execution_count": null,
      "outputs": [
        {
          "output_type": "stream",
          "name": "stdout",
          "text": [
            " Вычисляем устойчивую стоимость капитала.\n",
            "Генерация и возврат временного ряда\n",
            "Обновляем состояние (основной капитал)\n",
            " Оценка функции h\n",
            "Обновляем состояние (основной капитал)\n",
            " Оценка функции h\n",
            "Обновляем состояние (основной капитал)\n",
            " Оценка функции h\n",
            "Обновляем состояние (основной капитал)\n",
            " Оценка функции h\n",
            "Обновляем состояние (основной капитал)\n",
            " Оценка функции h\n",
            "Обновляем состояние (основной капитал)\n",
            " Оценка функции h\n",
            "Обновляем состояние (основной капитал)\n",
            " Оценка функции h\n",
            "Обновляем состояние (основной капитал)\n",
            " Оценка функции h\n",
            "Обновляем состояние (основной капитал)\n",
            " Оценка функции h\n",
            "Обновляем состояние (основной капитал)\n",
            " Оценка функции h\n",
            "Обновляем состояние (основной капитал)\n",
            " Оценка функции h\n",
            "Обновляем состояние (основной капитал)\n",
            " Оценка функции h\n",
            "Обновляем состояние (основной капитал)\n",
            " Оценка функции h\n",
            "Обновляем состояние (основной капитал)\n",
            " Оценка функции h\n",
            "Обновляем состояние (основной капитал)\n",
            " Оценка функции h\n",
            "Обновляем состояние (основной капитал)\n",
            " Оценка функции h\n",
            "Обновляем состояние (основной капитал)\n",
            " Оценка функции h\n",
            "Обновляем состояние (основной капитал)\n",
            " Оценка функции h\n",
            "Обновляем состояние (основной капитал)\n",
            " Оценка функции h\n",
            "Обновляем состояние (основной капитал)\n",
            " Оценка функции h\n",
            "Обновляем состояние (основной капитал)\n",
            " Оценка функции h\n",
            "Обновляем состояние (основной капитал)\n",
            " Оценка функции h\n",
            "Обновляем состояние (основной капитал)\n",
            " Оценка функции h\n",
            "Обновляем состояние (основной капитал)\n",
            " Оценка функции h\n",
            "Обновляем состояние (основной капитал)\n",
            " Оценка функции h\n",
            "Обновляем состояние (основной капитал)\n",
            " Оценка функции h\n",
            "Обновляем состояние (основной капитал)\n",
            " Оценка функции h\n",
            "Обновляем состояние (основной капитал)\n",
            " Оценка функции h\n",
            "Обновляем состояние (основной капитал)\n",
            " Оценка функции h\n",
            "Обновляем состояние (основной капитал)\n",
            " Оценка функции h\n",
            "Обновляем состояние (основной капитал)\n",
            " Оценка функции h\n",
            "Обновляем состояние (основной капитал)\n",
            " Оценка функции h\n",
            "Обновляем состояние (основной капитал)\n",
            " Оценка функции h\n",
            "Обновляем состояние (основной капитал)\n",
            " Оценка функции h\n",
            "Обновляем состояние (основной капитал)\n",
            " Оценка функции h\n",
            "Обновляем состояние (основной капитал)\n",
            " Оценка функции h\n",
            "Обновляем состояние (основной капитал)\n",
            " Оценка функции h\n",
            "Обновляем состояние (основной капитал)\n",
            " Оценка функции h\n",
            "Обновляем состояние (основной капитал)\n",
            " Оценка функции h\n",
            "Обновляем состояние (основной капитал)\n",
            " Оценка функции h\n",
            "Обновляем состояние (основной капитал)\n",
            " Оценка функции h\n",
            "Обновляем состояние (основной капитал)\n",
            " Оценка функции h\n",
            "Обновляем состояние (основной капитал)\n",
            " Оценка функции h\n",
            "Обновляем состояние (основной капитал)\n",
            " Оценка функции h\n",
            "Обновляем состояние (основной капитал)\n",
            " Оценка функции h\n",
            "Обновляем состояние (основной капитал)\n",
            " Оценка функции h\n",
            "Обновляем состояние (основной капитал)\n",
            " Оценка функции h\n",
            "Обновляем состояние (основной капитал)\n",
            " Оценка функции h\n",
            "Обновляем состояние (основной капитал)\n",
            " Оценка функции h\n",
            "Обновляем состояние (основной капитал)\n",
            " Оценка функции h\n",
            "Обновляем состояние (основной капитал)\n",
            " Оценка функции h\n",
            "Обновляем состояние (основной капитал)\n",
            " Оценка функции h\n",
            "Обновляем состояние (основной капитал)\n",
            " Оценка функции h\n",
            "Обновляем состояние (основной капитал)\n",
            " Оценка функции h\n",
            "Обновляем состояние (основной капитал)\n",
            " Оценка функции h\n",
            "Обновляем состояние (основной капитал)\n",
            " Оценка функции h\n",
            "Обновляем состояние (основной капитал)\n",
            " Оценка функции h\n",
            "Обновляем состояние (основной капитал)\n",
            " Оценка функции h\n",
            "Обновляем состояние (основной капитал)\n",
            " Оценка функции h\n",
            "Обновляем состояние (основной капитал)\n",
            " Оценка функции h\n",
            "Генерация и возврат временного ряда\n",
            "Обновляем состояние (основной капитал)\n",
            " Оценка функции h\n",
            "Обновляем состояние (основной капитал)\n",
            " Оценка функции h\n",
            "Обновляем состояние (основной капитал)\n",
            " Оценка функции h\n",
            "Обновляем состояние (основной капитал)\n",
            " Оценка функции h\n",
            "Обновляем состояние (основной капитал)\n",
            " Оценка функции h\n",
            "Обновляем состояние (основной капитал)\n",
            " Оценка функции h\n",
            "Обновляем состояние (основной капитал)\n",
            " Оценка функции h\n",
            "Обновляем состояние (основной капитал)\n",
            " Оценка функции h\n",
            "Обновляем состояние (основной капитал)\n",
            " Оценка функции h\n",
            "Обновляем состояние (основной капитал)\n",
            " Оценка функции h\n",
            "Обновляем состояние (основной капитал)\n",
            " Оценка функции h\n",
            "Обновляем состояние (основной капитал)\n",
            " Оценка функции h\n",
            "Обновляем состояние (основной капитал)\n",
            " Оценка функции h\n",
            "Обновляем состояние (основной капитал)\n",
            " Оценка функции h\n",
            "Обновляем состояние (основной капитал)\n",
            " Оценка функции h\n",
            "Обновляем состояние (основной капитал)\n",
            " Оценка функции h\n",
            "Обновляем состояние (основной капитал)\n",
            " Оценка функции h\n",
            "Обновляем состояние (основной капитал)\n",
            " Оценка функции h\n",
            "Обновляем состояние (основной капитал)\n",
            " Оценка функции h\n",
            "Обновляем состояние (основной капитал)\n",
            " Оценка функции h\n",
            "Обновляем состояние (основной капитал)\n",
            " Оценка функции h\n",
            "Обновляем состояние (основной капитал)\n",
            " Оценка функции h\n",
            "Обновляем состояние (основной капитал)\n",
            " Оценка функции h\n",
            "Обновляем состояние (основной капитал)\n",
            " Оценка функции h\n",
            "Обновляем состояние (основной капитал)\n",
            " Оценка функции h\n",
            "Обновляем состояние (основной капитал)\n",
            " Оценка функции h\n",
            "Обновляем состояние (основной капитал)\n",
            " Оценка функции h\n",
            "Обновляем состояние (основной капитал)\n",
            " Оценка функции h\n",
            "Обновляем состояние (основной капитал)\n",
            " Оценка функции h\n",
            "Обновляем состояние (основной капитал)\n",
            " Оценка функции h\n",
            "Обновляем состояние (основной капитал)\n",
            " Оценка функции h\n",
            "Обновляем состояние (основной капитал)\n",
            " Оценка функции h\n",
            "Обновляем состояние (основной капитал)\n",
            " Оценка функции h\n",
            "Обновляем состояние (основной капитал)\n",
            " Оценка функции h\n",
            "Обновляем состояние (основной капитал)\n",
            " Оценка функции h\n",
            "Обновляем состояние (основной капитал)\n",
            " Оценка функции h\n",
            "Обновляем состояние (основной капитал)\n",
            " Оценка функции h\n",
            "Обновляем состояние (основной капитал)\n",
            " Оценка функции h\n",
            "Обновляем состояние (основной капитал)\n",
            " Оценка функции h\n",
            "Обновляем состояние (основной капитал)\n",
            " Оценка функции h\n",
            "Обновляем состояние (основной капитал)\n",
            " Оценка функции h\n",
            "Обновляем состояние (основной капитал)\n",
            " Оценка функции h\n",
            "Обновляем состояние (основной капитал)\n",
            " Оценка функции h\n",
            "Обновляем состояние (основной капитал)\n",
            " Оценка функции h\n",
            "Обновляем состояние (основной капитал)\n",
            " Оценка функции h\n",
            "Обновляем состояние (основной капитал)\n",
            " Оценка функции h\n",
            "Обновляем состояние (основной капитал)\n",
            " Оценка функции h\n",
            "Обновляем состояние (основной капитал)\n",
            " Оценка функции h\n",
            "Обновляем состояние (основной капитал)\n",
            " Оценка функции h\n",
            "Обновляем состояние (основной капитал)\n",
            " Оценка функции h\n",
            "Обновляем состояние (основной капитал)\n",
            " Оценка функции h\n",
            "Обновляем состояние (основной капитал)\n",
            " Оценка функции h\n",
            "Обновляем состояние (основной капитал)\n",
            " Оценка функции h\n",
            "Обновляем состояние (основной капитал)\n",
            " Оценка функции h\n",
            "Обновляем состояние (основной капитал)\n",
            " Оценка функции h\n",
            "Обновляем состояние (основной капитал)\n",
            " Оценка функции h\n",
            "Обновляем состояние (основной капитал)\n",
            " Оценка функции h\n",
            "Обновляем состояние (основной капитал)\n",
            " Оценка функции h\n",
            "Обновляем состояние (основной капитал)\n",
            " Оценка функции h\n",
            "Обновляем состояние (основной капитал)\n",
            " Оценка функции h\n"
          ]
        },
        {
          "output_type": "display_data",
          "data": {
            "text/plain": [
              "<Figure size 648x432 with 1 Axes>"
            ],
            "image/png": "[encoded data removed]"
          },
          "metadata": {
            "needs_background": "light"
          }
        }
      ]
    },
    {
      "cell_type": "markdown",
      "source": [
        "# Пример Класс Market\n",
        "Определим класс для конкурентного рынка Market, на котором и\n",
        "покупатели, и продавцы являются участниками влияния формирования расценок\n",
        "на товары (состязательность спроса и предложения).\n",
        "Рынок состоит из следующих объектов:\n",
        "\n",
        "Линейная кривая спроса Q = a_d - b_d p.\n",
        "\n",
        "Линейная кривая предложения Q = a_z + b_z (p - t),\n",
        "где p – цена, уплачиваемая покупателем, Q – количество товара, t – налог\n",
        "на единицу товара.\n",
        "\n",
        "Другие символы являются параметрами спроса и предложения.\n",
        "\n",
        "Класс **Market** предоставляет методы для вычисления различных процентных значений,\n",
        "включая конкурентную равновесную цену и количество, собранные налоговые\n",
        "поступления, излишки потребителей и излишки производителей.\n",
        "Далее реализована часть программы, которая использует класс Market для\n",
        "расчета параметров в конкурентном рынке. "
      ],
      "metadata": {
        "id": "xRHaT98zZumK"
      }
    },
    {
      "cell_type": "code",
      "source": [
        "from scipy.integrate import quad\n",
        "class Market:\n",
        "    def __init__(self, ad, bd, az, bz, tax):\n",
        "        \"\"\"\n",
        "        Настройка параметров рынка. Все параметры\n",
        "        являются скалярами.\n",
        "        \"\"\"\n",
        "        self.ad, self.bd, self.az, self.bz, self.tax = ad, bd, az, bz, tax\n",
        "        if ad < az:\n",
        "            raise ValueError(' Недостаточный спрос.')\n",
        "    def price(self):\n",
        "        \" Расчет равновесной цены\"\n",
        "        return (self.ad - self.az + self.bz * self.tax)/ (self.bd + self.bz)\n",
        "    def quantity(self):\n",
        "        \" Расчет равновесного количества\"\n",
        "        return self.ad - self.bd * self.price()\n",
        "\n",
        "    def consumer_surp(self):\n",
        "        \" Расчет потребительского излишка \"\n",
        "        # == Расчет площадь при обнаружении функции потребления == #\n",
        "        integrand = lambda x: (self.ad / self.bd) - (1 / self.bd) * x\n",
        "        area, error = quad(integrand, 0, self.quantity())\n",
        "        return area - self.price() * self.quantity()\n",
        "    def producer_surp(self):\n",
        "        \" Расчет излишка у производителя \"\n",
        "        # == Расчет площади над обратной кривой предложения, исключая налог == #\n",
        "        integrand = lambda x: - (self.az / self.bz) + (1 / self.bz) * x\n",
        "        area, error = quad(integrand, 0, self.quantity())\n",
        "        return (self.price() - self.tax) * self.quantity() - area\n",
        "    def taxrev(self):\n",
        "        \" Расчет налоговых поступлений \"\n",
        "        return self.tax * self.quantity()\n",
        "    def inverse_demand(self, x):\n",
        "        \" Расчет обратного спроса \"\n",
        "        return self.ad / self.bd - (1 / self.bd)* x\n",
        "    def inverse_supply(self, x):\n",
        "        \" Расчет обратной кривой предложения \"\n",
        "        return - (self.az / self.bz) + (1 / self.bz) * x + self.tax\n",
        "    def inverse_supply_no_tax(self, x):\n",
        "        \"Расчет обратной кривой предложения без налога \"\n",
        "        return -(self.az / self.bz) + (1 / self.bz) * x "
      ],
      "metadata": {
        "id": "qs9gSelBZsUN"
      },
      "execution_count": null,
      "outputs": []
    },
    {
      "cell_type": "code",
      "source": [
        "baseline_params = 15, .5, -2, .5, 3\n",
        "m = Market(*baseline_params)\n",
        "print(\"равновесная цена = \", m.price())"
      ],
      "metadata": {
        "colab": {
          "base_uri": "https://localhost:8080/"
        },
        "id": "SlbrrKhoahlR",
        "outputId": "09e6a92e-7653-4c91-8605-7218dd354016"
      },
      "execution_count": null,
      "outputs": [
        {
          "output_type": "stream",
          "name": "stdout",
          "text": [
            "равновесная цена =  18.5\n"
          ]
        }
      ]
    },
    {
      "cell_type": "code",
      "source": [
        "print(\"потребительский излишек = \", m.consumer_surp())"
      ],
      "metadata": {
        "colab": {
          "base_uri": "https://localhost:8080/"
        },
        "id": "VltSsAIJajeD",
        "outputId": "19834e84-a2f9-4a67-80c6-f924a355cfa8"
      },
      "execution_count": null,
      "outputs": [
        {
          "output_type": "stream",
          "name": "stdout",
          "text": [
            "потребительский излишек =  33.0625\n"
          ]
        }
      ]
    },
    {
      "cell_type": "code",
      "source": [
        "import numpy as np\n",
        "# Исходные значения ad, bd, az, bz, tax\n",
        "baseline_params = 15, .5, -2, .5, 3\n",
        "m = Market(*baseline_params)\n",
        "q_max = m.quantity() * 2\n",
        "q_grid = np.linspace(0.0, q_max, 100)\n",
        "pd = m.inverse_demand(q_grid)\n",
        "ps = m.inverse_supply(q_grid)\n",
        "psno = m.inverse_supply_no_tax(q_grid)\n",
        "fig, ax = plt.subplots()\n",
        "ax.plot(q_grid, pd, lw=2, alpha=0.6, label='спрос')\n",
        "ax.plot(q_grid, ps, lw=2, alpha=0.6, label='предложение')\n",
        "ax.plot(q_grid, psno, '--k', lw=2, alpha=0.6, label='предложение без налогов')\n",
        "ax.set_xlabel('количество', fontsize=14)\n",
        "ax.set_xlim(0, q_max)\n",
        "ax.set_ylabel('цена', fontsize=14)\n",
        "ax.legend(loc='lower right', frameon=False, fontsize=14)\n",
        "plt.show()"
      ],
      "metadata": {
        "colab": {
          "base_uri": "https://localhost:8080/",
          "height": 283
        },
        "id": "ue74Lawqal7U",
        "outputId": "76dd9588-5f54-49cd-beb6-41435952be54"
      },
      "execution_count": null,
      "outputs": [
        {
          "output_type": "display_data",
          "data": {
            "text/plain": [
              "<Figure size 432x288 with 1 Axes>"
            ],
            "image/png": "[encoded data removed]"
          },
          "metadata": {
            "needs_background": "light"
          }
        }
      ]
    },
    {
      "cell_type": "code",
      "source": [
        "def deadw(m):\n",
        "    \" Вычисление безвозвратные потери для рынка m.\"\n",
        "    # == Создание аналогичный рынок без налогов == #\n",
        "    m_no_tax = Market(m.ad, m.bd, m.az, m.bz, 0)\n",
        "    # == Сравнение излишков разницы в доходности == #\n",
        "    surp1 = m_no_tax.consumer_surp() + m_no_tax.producer_surp()\n",
        "    surp2 = m.consumer_surp() + m.producer_surp() + m.taxrev()\n",
        "    return surp1 - surp2 \n",
        "\n",
        "baseline_params = 15, .5, -2, .5, 3\n",
        "m = Market(*baseline_params)\n",
        "deadw(m) # Безвозвратные потери"
      ],
      "metadata": {
        "colab": {
          "base_uri": "https://localhost:8080/"
        },
        "id": "ty7CNLavasFm",
        "outputId": "5a587e1a-8e64-4979-eb13-e54a3069e932"
      },
      "execution_count": null,
      "outputs": [
        {
          "output_type": "execute_result",
          "data": {
            "text/plain": [
              "1.125"
            ]
          },
          "metadata": {},
          "execution_count": 13
        }
      ]
    },
    {
      "cell_type": "markdown",
      "source": [
        "## ***Проектирование \"сверху-вниз\"***"
      ],
      "metadata": {
        "id": "c9lyqhXtbO7E"
      }
    },
    {
      "cell_type": "markdown",
      "source": [
        "**Шаг №1.** Предположим, что известен фрагмент кода программы:"
      ],
      "metadata": {
        "id": "u2z5SVn1PY7d"
      }
    },
    {
      "cell_type": "code",
      "source": [
        "def main():\n",
        "    salary = calculate_salary()\n",
        "    print(salary)\n",
        "if __name__ == \"__main__\":\n",
        "    main()"
      ],
      "metadata": {
        "id": "lIrNHVmrbUbZ"
      },
      "execution_count": null,
      "outputs": []
    },
    {
      "cell_type": "markdown",
      "source": [
        "**Шаг №2.** Работать код ***не будет***, так как функция calculate_salary\n",
        "отсутствует. Добавим метод. "
      ],
      "metadata": {
        "id": "44NUjFUKPgQ3"
      }
    },
    {
      "cell_type": "code",
      "source": [
        "def main():\n",
        "    salary = calculate_salary()\n",
        "    print(salary)\n",
        "def calculate_salary():\n",
        "    \"\"\"\n",
        "    Функция считает зарплату сотрудника ДПС, считывая исходные\n",
        "    данные с клавиатуры. \n",
        "    :returns: Зарплата сотрудника\n",
        "    .. todo:: Реализовать функцию\n",
        "\n",
        "    \"\"\"\n",
        "    pass\n",
        "if __name__ == \"__main__\":\n",
        "    main() \n"
      ],
      "metadata": {
        "colab": {
          "base_uri": "https://localhost:8080/"
        },
        "id": "6QAUx3KNPhih",
        "outputId": "f1859973-39b6-4918-de9d-59188a3dfa68"
      },
      "execution_count": null,
      "outputs": [
        {
          "output_type": "stream",
          "name": "stdout",
          "text": [
            "None\n"
          ]
        }
      ]
    },
    {
      "cell_type": "markdown",
      "source": [
        "Теперь код будет успешно выполняться, но сейчас функция ничего не\n",
        "делает. В документации к функции явно указано, что ее надо реализовать. Такая\n",
        "функция называется заглушкой и широко используется в практике\n",
        "программирования. "
      ],
      "metadata": {
        "id": "iMtTsE63PhMm"
      }
    },
    {
      "cell_type": "markdown",
      "source": [
        "**Шаг №3.** Опишем реализацию функции. Предположим, что известен\n",
        "фрагмент кода программы, где написаны все необходимые функции, и\n",
        "определим calculate_salary так:"
      ],
      "metadata": {
        "id": "HLziA2zEP5RJ"
      }
    },
    {
      "cell_type": "code",
      "source": [
        "#Зарплата сотрудника\n",
        "\n",
        "def calculate_salary():\n",
        "    \"\"\"\n",
        "    Функция считает зарплату сотрудника ДПС, считывая исходные данные с\n",
        "    клавиатуры. \n",
        "    \"\"\"\n",
        "    sum_of_fines = 0\n",
        "    speed_of_car, number_of_car = read_data()\n",
        "    while not detect_chief(number_of_car):\n",
        "        if speed_of_car > 60:\n",
        "            sum_of_fines += calculate_fine(number_of_car)\n",
        "            speed_of_car, number_of_car = read_data()\n",
        "    return sum_of_fines"
      ],
      "metadata": {
        "id": "ub9ImTclP5CS"
      },
      "execution_count": null,
      "outputs": []
    },
    {
      "cell_type": "code",
      "source": [
        "def main():\n",
        "    salary = calculate_salary()\n",
        "    print(salary)\n",
        "def calculate_salary():\n",
        "    \n",
        "    # Считает зарплату сотрудника ДПС,\n",
        "    # считывая исходные данные с клавиатуры.\n",
        "    # Зарплата сотрудника\n",
        "\n",
        "    sum_of_fines = 0\n",
        "    speed_of_car, number_of_car = read_data()\n",
        "    while not detect_chief(number_of_car):\n",
        "        if speed_of_car > 60:\n",
        "            sum_of_fines += calculate_fine(number_of_car)\n",
        "            speed_of_car, number_of_car = read_data()\n",
        "    return sum_of_fines\n",
        "\n",
        "def read_data():\n",
        "\n",
        "    # Считывает следущую строку данных.\n",
        "    # tuple(int, str) - скорость, номер машины\n",
        "\n",
        "    data = input().split()\n",
        "    return int(data[0]), data[1]\n",
        "\n",
        "def detect_chief(number_of_car):\n",
        "    # Проверяет, принадлежит ли данный номер начальнику.\n",
        "    # number_of_car: номер автомобиля\n",
        "    # True, если номер принадлежит начальнику, иначе\n",
        "    # False\n",
        "    return number_of_car == \"A999AA\"\n",
        "\n",
        "def calculate_fine(number_of_car):\n",
        "    # Считает штраф для автомобиля с конкретным номером.\n",
        "    # number_of_car: номер автомобиля\n",
        "    # Целое число, размер штрафа\n",
        "    if is_super_number(number_of_car):\n",
        "        return 1000\n",
        "    elif is_good_number(number_of_car):\n",
        "        return 500\n",
        "    else:\n",
        "        return 100\n",
        "\n",
        "def is_super_number(number_of_car):\n",
        "\n",
        "    # Проверяет, является ли номер «золотым» (совпадение трёх цифр)\n",
        "    # number_of_car: номер автомобиля\n",
        "    # True, если номер «золотой», иначе False\n",
        "    return number_of_car[1] == number_of_car[2] == number_of_car[3]\n",
        "\n",
        "def is_good_number(number_of_car):\n",
        "\n",
        "    # Проверяет, является ли номер «серебряный» (совпадение двух цифр)\n",
        "    # number_of_car: номер автомобиля\n",
        "    # True, если номер «серебряный», иначе False\n",
        "\n",
        "    return number_of_car[1] == number_of_car[2] or \\\n",
        "            number_of_car[1] == number_of_car[3] or \\\n",
        "            number_of_car[2] == number_of_car[3]\n",
        "\n",
        "if __name__ == \"__main__\":\n",
        "    main()"
      ],
      "metadata": {
        "id": "XdZanxCSSXM5"
      },
      "execution_count": null,
      "outputs": []
    }
  ]
}