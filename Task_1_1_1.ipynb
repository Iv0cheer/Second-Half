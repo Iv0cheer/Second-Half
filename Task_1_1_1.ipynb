{
  "nbformat": 4,
  "nbformat_minor": 0,
  "metadata": {
    "colab": {
      "provenance": [],
      "authorship_tag": "ABX9TyM+mUQWe31z0+syOZr5AHKW",
      "include_colab_link": true
    },
    "kernelspec": {
      "name": "python3",
      "display_name": "Python 3"
    },
    "language_info": {
      "name": "python"
    }
  },
  "cells": [
    {
      "cell_type": "markdown",
      "metadata": {
        "id": "view-in-github",
        "colab_type": "text"
      },
      "source": [
        "<a href=\"https://colab.research.google.com/github/Iv0cheer/Second-Half/blob/main/Task_1_1_1.ipynb\" target=\"_parent\"><img src=\"https://colab.research.google.com/assets/colab-badge.svg\" alt=\"Open In Colab\"/></a>"
      ]
    },
    {
      "cell_type": "markdown",
      "source": [
        "# Creating class \"A\" with privite variables & two attributes"
      ],
      "metadata": {
        "id": "SYfiQcnJbysG"
      }
    },
    {
      "cell_type": "code",
      "execution_count": null,
      "metadata": {
        "colab": {
          "base_uri": "https://localhost:8080/"
        },
        "id": "LMPHomg1UwDJ",
        "outputId": "2bdbc2be-c6d2-404a-d023-37a0d596aff6"
      },
      "outputs": [
        {
          "output_type": "stream",
          "name": "stdout",
          "text": [
            "Dividing: 4.0\n",
            "Reducing: 15\n"
          ]
        }
      ],
      "source": [
        "class A():\n",
        "    \"\"\"\n",
        "    Class that divides and reduce numbers.\n",
        "    \"\"\"\n",
        "\n",
        "    __a = float() # Privite variable\n",
        "    __b = float() # Privite variable\n",
        "    def __init__(self, __a, __b):\n",
        "        self.a = __a\n",
        "        self.b = __b\n",
        "    \n",
        "    def divide(self):\n",
        "        \"\"\"\n",
        "        Function divides first number by second number.\n",
        "        \"\"\"\n",
        "        c = self.a / self.b\n",
        "        return c\n",
        "    \n",
        "    def reduce(self):\n",
        "        \"\"\"\n",
        "        Function reduce first number by second number.\n",
        "        \"\"\"\n",
        "        c = self.a - self.b\n",
        "        return c\n",
        "    \n",
        "    def __del__(self):\n",
        "        print('Process deleted.')\n",
        "\n",
        "c1 = A(20, 5)\n",
        "print(f'Dividing: {c1.divide()}')\n",
        "print(f'Reducing: {c1.reduce()}')"
      ]
    },
    {
      "cell_type": "markdown",
      "source": [
        "# Creating entering point."
      ],
      "metadata": {
        "id": "QLuRNgesbtMx"
      }
    },
    {
      "cell_type": "code",
      "source": [
        "class Program():\n",
        "    \"\"\"\n",
        "    Class that calling class \"A()\"\n",
        "    \"\"\"\n",
        "    def __init__(self):\n",
        "        c2 = A(20, 5)\n",
        "        print(c2.divide())\n",
        "        print(c2.reduce())\n",
        "\n",
        "if __name__ == \"__main__\":\n",
        "    f1 = Program()\n",
        "    del f1"
      ],
      "metadata": {
        "colab": {
          "base_uri": "https://localhost:8080/"
        },
        "id": "lSP1CmGOX57_",
        "outputId": "77fcaa5e-ca8d-4f29-cc66-22a67b2dd002"
      },
      "execution_count": null,
      "outputs": [
        {
          "output_type": "stream",
          "name": "stdout",
          "text": [
            "20\n",
            "4.0\n",
            "15\n",
            "Process deleted.\n"
          ]
        }
      ]
    }
  ]
}