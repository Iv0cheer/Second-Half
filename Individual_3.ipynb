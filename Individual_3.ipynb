{
  "nbformat": 4,
  "nbformat_minor": 0,
  "metadata": {
    "colab": {
      "provenance": [],
      "authorship_tag": "ABX9TyP9vnASpWW9pjk8oZL4YnQo",
      "include_colab_link": true
    },
    "kernelspec": {
      "name": "python3",
      "display_name": "Python 3"
    },
    "language_info": {
      "name": "python"
    }
  },
  "cells": [
    {
      "cell_type": "markdown",
      "metadata": {
        "id": "view-in-github",
        "colab_type": "text"
      },
      "source": [
        "<a href=\"https://colab.research.google.com/github/Iv0cheer/Second-Half/blob/main/Individual_3.ipynb\" target=\"_parent\"><img src=\"https://colab.research.google.com/assets/colab-badge.svg\" alt=\"Open In Colab\"/></a>"
      ]
    },
    {
      "cell_type": "markdown",
      "source": [
        "# **Задание №1**"
      ],
      "metadata": {
        "id": "ChbYscn0bR4o"
      }
    },
    {
      "cell_type": "code",
      "execution_count": 20,
      "metadata": {
        "id": "3G-Hetjra3DI"
      },
      "outputs": [],
      "source": [
        "class Product:\n",
        "    def __init__(self, name, price, weight):\n",
        "        if isinstance(name, str):\n",
        "            if isinstance(price, int) or isinstance(price, float):\n",
        "                if isinstance(weight, int) or isinstance(weight, float):\n",
        "                    self.name = name\n",
        "                    self.price = price\n",
        "                    self.weight = weight\n",
        "        else:\n",
        "            raise TypeError\n",
        "\n",
        "\n",
        "class Buy(Product):\n",
        "    def __init__(self, name, price, weight, quantity):\n",
        "        super().__init__(name, price, weight)\n",
        "        if isinstance(quantity, int):\n",
        "            self.quantity = quantity\n",
        "        else:\n",
        "            raise TypeError\n",
        "\n",
        "    def sum_p(self):\n",
        "        self.sum_price = self.quantity * self.price\n",
        "        return self.sum_price\n",
        "\n",
        "\n",
        "class Check(Buy):\n",
        "    def info(self):\n",
        "        print(self.name)\n",
        "        print('-' * 20)\n",
        "        print('INFORMATION FOR YOUR PRODUCT:')\n",
        "        print(f'Name: {self.name}')\n",
        "        print(f'Price (per 1): {self.price}')\n",
        "        print(f'Quantity: {self.quantity}')\n",
        "        print(f'Sum_Price: {super().sum_p()}')\n",
        "        print('-' * 20 + '\\n')"
      ]
    },
    {
      "cell_type": "code",
      "source": [
        "massive = ()\n",
        "\n",
        "try:\n",
        "    ch1 = Check('`BEKKO` Fridge V2G37', 54500, 4.6, 2)\n",
        "    ch2 = Check('`APPLE` Iphone 13 Pro', 120000, 1.4, 1)\n",
        "    ch3 = Check('`HyperX Cloud Alpha S`', 11500, 1.7, 5)\n",
        "    ch4 = Check('`Animal Chinchilla`', 4000, 2.1, 3)\n",
        "\n",
        "    massive += (ch1, ch2, ch3, ch4)\n",
        "\n",
        "    for i in massive:\n",
        "        i.info()\n",
        "\n",
        "except:\n",
        "    print('Please, recheck your data.')\n",
        "    print('Name must be string.')\n",
        "    print('Price and weight must be integer or float.')\n",
        "    print('Quantity must be integer.')"
      ],
      "metadata": {
        "colab": {
          "base_uri": "https://localhost:8080/"
        },
        "id": "eMS6dVJ2qh-O",
        "outputId": "c15d37ba-3187-4388-ff3e-2e243a166b1f"
      },
      "execution_count": 19,
      "outputs": [
        {
          "output_type": "stream",
          "name": "stdout",
          "text": [
            "`BEKKO` Fridge V2G37\n",
            "--------------------\n",
            "INFORMATION FOR YOUR PRODUCT:\n",
            "Name: `BEKKO` Fridge V2G37\n",
            "Price (per 1): 54500\n",
            "Quantity: 2\n",
            "Sum_Price: 109000\n",
            "--------------------\n",
            "\n",
            "`APPLE` Iphone 13 Pro\n",
            "--------------------\n",
            "INFORMATION FOR YOUR PRODUCT:\n",
            "Name: `APPLE` Iphone 13 Pro\n",
            "Price (per 1): 120000\n",
            "Quantity: 1\n",
            "Sum_Price: 120000\n",
            "--------------------\n",
            "\n",
            "`HyperX Cloud Alpha S`\n",
            "--------------------\n",
            "INFORMATION FOR YOUR PRODUCT:\n",
            "Name: `HyperX Cloud Alpha S`\n",
            "Price (per 1): 11500\n",
            "Quantity: 5\n",
            "Sum_Price: 57500\n",
            "--------------------\n",
            "\n",
            "`Animal Chinchilla`\n",
            "--------------------\n",
            "INFORMATION FOR YOUR PRODUCT:\n",
            "Name: `Animal Chinchilla`\n",
            "Price (per 1): 4000\n",
            "Quantity: 3\n",
            "Sum_Price: 12000\n",
            "--------------------\n",
            "\n"
          ]
        }
      ]
    },
    {
      "cell_type": "markdown",
      "source": [
        "# **Задание №2**"
      ],
      "metadata": {
        "id": "xUrjHDRebWaC"
      }
    },
    {
      "cell_type": "code",
      "source": [
        "from math import sqrt, cos, radians\n",
        "\n",
        "class Memory:\n",
        "    def __init__(self):\n",
        "        self.storage = []\n",
        "\n",
        "    def write_in(self, x):\n",
        "        self.storage.append(x)\n",
        "        print(f'You successfully wrote a(n) {x} in memory.')\n",
        "\n",
        "    def extract(self, number):\n",
        "        if isinstance(number, int):\n",
        "            if len(self.storage) <= number:\n",
        "                res = self.storage[number-1]\n",
        "                print(f'You successfully extracted {res}.')\n",
        "                return res\n",
        "            else:\n",
        "                print('Number is out of range.')\n",
        "        else:\n",
        "            print('Valuable `number` must be integer.')\n",
        "\n",
        "    def delete(self, number):\n",
        "        if isinstance(number, int):\n",
        "            print(f'Len: {len(self.storage)}')\n",
        "            if len(self.storage) >= number:\n",
        "                print(f'You deleted {self.storage[number-1]}')\n",
        "                self.storage.pop(number-1)\n",
        "\n",
        "            else:\n",
        "                print('Number is out of range.')\n",
        "        else:\n",
        "            print('Valuable `number` must be integer.')\n",
        "\n",
        "    def add_to_content(self, number, x):\n",
        "        if isinstance(number, int) and len(self.storage) <= number:\n",
        "            if isinstance(x, type(self.storage[number-1])):\n",
        "                self.storage[number-1] += x\n",
        "            else:\n",
        "                print('Process failed. Type of your number is not as in storage.')\n",
        "\n",
        "    def clear_storage(self):\n",
        "        self.storage.clear()\n",
        "        print('All storage had been deleted.')\n",
        "\n",
        "    def info(self):\n",
        "        print('-' * 20)\n",
        "        print(f'Active memory:')\n",
        "        for x in range(len(self.storage)):\n",
        "            print(f'{x+1}: {self.storage[x]}')\n",
        "        print('-' * 20)\n",
        "\n",
        "\n",
        "class Calculator(Memory):\n",
        "    def __init__(self, x):\n",
        "        super().__init__()\n",
        "        self.num = float(x)\n",
        "    \n",
        "    def plus(self, y):\n",
        "        self.num += y\n",
        "        return self.num\n",
        "    \n",
        "    def minus(self, y):\n",
        "        self.num -= y\n",
        "        return self.num\n",
        "    \n",
        "    def multiply(self, y):\n",
        "        self.num *= y\n",
        "        return self.num\n",
        "    \n",
        "    def divide(self, y):\n",
        "        if y != 0:\n",
        "            self.num /= y\n",
        "            return self.num\n",
        "        else:\n",
        "            print('Process failed. Division by zero')\n",
        "    \n",
        "    def square_root(self):\n",
        "        self.num = sqrt(self.num)\n",
        "        return self.num\n",
        "    \n",
        "    def cosinus(self):\n",
        "        self.num = cos(radians(self.num))\n",
        "        return self.num "
      ],
      "metadata": {
        "id": "coGrJ6xxbQ-m"
      },
      "execution_count": 17,
      "outputs": []
    },
    {
      "cell_type": "code",
      "source": [
        "f = Calculator(1) # Создаем объект класса (запускаем приложение)\n",
        "\n",
        "print(f.num)\n",
        "print(f.plus(10)) # 11\n",
        "print(f.minus(1)) # 10\n",
        "print(f.plus(6)) # 16\n",
        "print(f.square_root()) # 4\n",
        "\n",
        "\n",
        "f.write_in(f.num)\n",
        "f.info()\n",
        "\n",
        "\n",
        "print(f.minus(3))\n",
        "print(f.cosinus())\n",
        "\n",
        "\n",
        "f.write_in(f.num)\n",
        "f.info()"
      ],
      "metadata": {
        "colab": {
          "base_uri": "https://localhost:8080/"
        },
        "id": "dAvdkXCPp03C",
        "outputId": "25a1e250-8d7c-4efb-f73f-7673e3d58405"
      },
      "execution_count": 18,
      "outputs": [
        {
          "output_type": "stream",
          "name": "stdout",
          "text": [
            "1.0\n",
            "11.0\n",
            "10.0\n",
            "16.0\n",
            "4.0\n",
            "You successfully wrote a(n) 4.0 in memory.\n",
            "--------------------\n",
            "Active memory:\n",
            "1: 4.0\n",
            "--------------------\n",
            "1.0\n",
            "0.9998476951563913\n",
            "You successfully wrote a(n) 0.9998476951563913 in memory.\n",
            "--------------------\n",
            "Active memory:\n",
            "1: 4.0\n",
            "2: 0.9998476951563913\n",
            "--------------------\n"
          ]
        }
      ]
    }
  ]
}