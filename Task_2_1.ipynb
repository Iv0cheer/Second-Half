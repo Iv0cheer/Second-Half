{
  "nbformat": 4,
  "nbformat_minor": 0,
  "metadata": {
    "colab": {
      "provenance": [],
      "authorship_tag": "ABX9TyO2AzPo0ZbNSJpCbmupma8y",
      "include_colab_link": true
    },
    "kernelspec": {
      "name": "python3",
      "display_name": "Python 3"
    },
    "language_info": {
      "name": "python"
    }
  },
  "cells": [
    {
      "cell_type": "markdown",
      "metadata": {
        "id": "view-in-github",
        "colab_type": "text"
      },
      "source": [
        "<a href=\"https://colab.research.google.com/github/Iv0cheer/Second-Half/blob/main/Task_2_1.ipynb\" target=\"_parent\"><img src=\"https://colab.research.google.com/assets/colab-badge.svg\" alt=\"Open In Colab\"/></a>"
      ]
    },
    {
      "cell_type": "markdown",
      "source": [
        "В рамках приложения разработать класс В – наследник класса А (задание \n",
        "2) с полем d и свойством с2. Свойство с2 – результат вычисления \n",
        "выражения над полями a, b, d. В теле свойства использовать управляющий \n",
        "оператор (см. вариант в таблице 2.2). У класса А создать конструктор, \n",
        "инициализирующий его поля. Для класса В определить 2 конструктора: \n",
        "один – наследуется от конструктора класса А, второй – собственный. В \n",
        "теле программы создать объекты классов А и В, продемонстрировав \n",
        "работу всех конструкторов. Вывести значения свойства на экран. \n"
      ],
      "metadata": {
        "id": "S6OfiZU5UfrK"
      }
    },
    {
      "cell_type": "code",
      "execution_count": 6,
      "metadata": {
        "id": "f8xhRDUpTP8E"
      },
      "outputs": [],
      "source": [
        "class A():\n",
        "    \"\"\"\n",
        "    Class that divides and reduce numbers.\n",
        "    \"\"\"\n",
        "\n",
        "    a = float() # Privite variable\n",
        "    b = float() # Privite variable\n",
        "    def __init__(self, a=1, b=1):\n",
        "        self.a = a\n",
        "        self.b = b\n",
        "    \n",
        "    def divide(self, a=1, b=1):\n",
        "        \"\"\"\n",
        "        Function divides first number by second number.\n",
        "        \"\"\"\n",
        "        c = self.a / self.b\n",
        "        return c\n",
        "    \n",
        "    def reduce(self, a=1, b=1):\n",
        "        \"\"\"\n",
        "        Function reduce first number by second number.\n",
        "        \"\"\"\n",
        "        c = self.a - self.b\n",
        "        return c\n",
        "    \n",
        "    def __del__(self):\n",
        "        print('Process deleted.')\n",
        "\n",
        "class B(A):\n",
        "    \"\"\"\n",
        "    Class, that derived from class `A`.\n",
        "    \"\"\"\n",
        "    c1 = float() # Privite variable\n",
        "    def c2(self, c1=1):\n",
        "        if self.c1 < self.a:\n",
        "            res = self.divide(self.c1, self.a)\n",
        "        elif self.c1 > self.a:\n",
        "            res = self.reduce(self.c1, self.a)\n",
        "        elif self.c1 == self.a:\n",
        "            res = self.c1\n",
        "        elif self.c1 < self.b:\n",
        "            res = self.divide(self.c1, self.b)\n",
        "        elif self.c1 > self.b:\n",
        "            res = self.reduce(self.c1, self.b)\n",
        "        elif self.c1 == self.b:\n",
        "            res = self.b\n",
        "        print(res)\n"
      ]
    },
    {
      "cell_type": "code",
      "source": [
        "f = A()\n",
        "g = B()\n",
        "\n",
        "g.c2()"
      ],
      "metadata": {
        "colab": {
          "base_uri": "https://localhost:8080/"
        },
        "id": "142M8dwvvlfh",
        "outputId": "6304fc6a-9413-46d9-a11e-c39a0abc66b3"
      },
      "execution_count": 7,
      "outputs": [
        {
          "output_type": "stream",
          "name": "stdout",
          "text": [
            "1.0\n"
          ]
        }
      ]
    },
    {
      "cell_type": "markdown",
      "source": [
        "# Упражнения для всех вариантов.\n",
        "\n"
      ],
      "metadata": {
        "id": "4v6F7866WIpa"
      }
    },
    {
      "cell_type": "markdown",
      "source": [
        "1. Создайте класс «зарплата», который вычисляет сумму зарплаты в зависимости \n",
        "от тарифной ставки и числа отработанных дней. Расширьте метод начислением \n",
        "процентов в зависимости от объема продаж. "
      ],
      "metadata": {
        "id": "Ef-kJvjwWM2U"
      }
    },
    {
      "cell_type": "code",
      "source": [
        "class Salary():\n",
        "    def __init__(self):\n",
        "        hello = input('Use standart options (Y/N)?: ').lower()\n",
        "        self.percent = 0.1\n",
        "        if hello == 'y':\n",
        "            self.salarys = 25000\n",
        "            self.work_days = 25\n",
        "            self.actual_days = 20\n",
        "            self.quantity_trades = 10000000\n",
        "        else:\n",
        "            self.salarys = float(input('Enter variable salary of the month: '))\n",
        "            self.work_days = int(input('Enter quantity of work days in the month: '))\n",
        "            self.actual_days = int(input('Enter quantity of actual days worked: '))\n",
        "            self.quantity_trades = int(input('Enter quantity of trades in month: '))\n",
        "        \n",
        "        if (self.quantity_trades > 1200000):\n",
        "            self.percent = 0.1\n",
        "        else:\n",
        "            self.percent = 0.05\n",
        "        print(self.percent)\n",
        "\n",
        "    def p_upp(self):\n",
        "        self.res = self.salarys / self.work_days * self.actual_days\n",
        "        \n",
        "        self.res += self.percent * self.res\n",
        "        print(self.res)\n",
        "        return self.res\n",
        "\n",
        "    def __del__(self):\n",
        "        print('Attribute deleted.')"
      ],
      "metadata": {
        "id": "OHBqqkiUWMa-"
      },
      "execution_count": null,
      "outputs": []
    },
    {
      "cell_type": "code",
      "source": [
        "a = Salary()\n",
        "a.p_upp()\n",
        "del a"
      ],
      "metadata": {
        "colab": {
          "base_uri": "https://localhost:8080/"
        },
        "id": "XuWN29i2YGK6",
        "outputId": "1851886e-1f34-4a30-cc7a-9a1e18ff94d1"
      },
      "execution_count": null,
      "outputs": [
        {
          "output_type": "stream",
          "name": "stdout",
          "text": [
            "Use standart options (Y/N)?: Y\n",
            "0.1\n",
            "22000.0\n",
            "Attribute deleted.\n"
          ]
        }
      ]
    },
    {
      "cell_type": "markdown",
      "source": [
        "2. Переопределите метод начисления зарплаты: в случае, если объем продаж в \n",
        "месяц превысил 1 000 000, проценты добавляются к зарплате, в противном \n",
        "случае – вычитаются."
      ],
      "metadata": {
        "id": "AKrvdlodXpUE"
      }
    },
    {
      "cell_type": "code",
      "source": [
        "class Salary():\n",
        "    def __init__(self, answer='n'):\n",
        "        self.percent = 0.1\n",
        "        if answer.lower() == 'y':\n",
        "            self.salarys = 25000\n",
        "            self.work_days = 25\n",
        "            self.actual_days = 20\n",
        "            self.quantity_trades = 1119000\n",
        "        else:\n",
        "            self.salarys = float(input('Enter variable salary of the month: '))\n",
        "            self.work_days = int(input('Enter quantity of work days in the month: '))\n",
        "            self.actual_days = int(input('Enter quantity of actual days worked: '))\n",
        "            self.quantity_trades = int(input('Enter quantity of trades in month: '))\n",
        "\n",
        "        if (self.quantity_trades >= 1200000):\n",
        "            self.percent = 0.1\n",
        "        else:\n",
        "            self.percent = 0.05\n",
        "        print(self.percent)\n",
        "\n",
        "    def trades(self, quantity):\n",
        "        if quantity > 1000000:\n",
        "            return True\n",
        "        return False\n",
        "\n",
        "    def p_upp(self):\n",
        "        self.res = self.salarys / self.work_days * self.actual_days\n",
        "\n",
        "        bool2 = self.trades(self.quantity_trades)\n",
        "        if bool2:\n",
        "            self.res += self.res * self.percent\n",
        "        else:\n",
        "            self.res -= self.res * self.percent\n",
        "\n",
        "        print(self.res)\n",
        "        return self.res\n",
        "    def __del__(self):\n",
        "        print('Attribute deleted.')"
      ],
      "metadata": {
        "id": "OL4PJwt5XtpR"
      },
      "execution_count": null,
      "outputs": []
    },
    {
      "cell_type": "code",
      "source": [
        "a = Salary('Y')\n",
        "a.p_upp()\n",
        "del a"
      ],
      "metadata": {
        "colab": {
          "base_uri": "https://localhost:8080/"
        },
        "id": "N_E026JqfFik",
        "outputId": "5edcda46-9589-420d-9099-a86e1ada1c1d"
      },
      "execution_count": null,
      "outputs": [
        {
          "output_type": "stream",
          "name": "stdout",
          "text": [
            "0.05\n",
            "21000.0\n",
            "Attribute deleted.\n"
          ]
        }
      ]
    },
    {
      "cell_type": "markdown",
      "source": [
        "3. Создайте для класса «сотрудники» абстрактный метод начисления зарплаты. \n",
        "Создайте два класса-наследника: сотрудник отдела продаж и сотрудник склада. Для первого класса начисление происходит аналогично заданию 1, а для второго \n",
        "–в зависимости от количества отработанных дней. "
      ],
      "metadata": {
        "id": "j3X3QSx3fqp5"
      }
    },
    {
      "cell_type": "code",
      "source": [
        "class trade_emp():\n",
        "    def __init__(self):\n",
        "        hello = input('Use standart options (Y/N)?: ').lower()\n",
        "        self.percent = 0.1\n",
        "        if hello == 'y':\n",
        "            self.salarys = 25000\n",
        "            self.work_days = 25\n",
        "            self.actual_days = 20\n",
        "            self.quantity_trades = 10000000\n",
        "        else:\n",
        "            self.salarys = float(input('Enter variable salary of the month: '))\n",
        "            self.work_days = int(input('Enter quantity of work days in the month: '))\n",
        "            self.actual_days = int(input('Enter quantity of actual days worked: '))\n",
        "            self.quantity_trades = int(input('Enter quantity of trades in month: '))\n",
        "        if (self.quantity_trades > 1200000):\n",
        "            self.percent = 0.1\n",
        "        else:\n",
        "            self.percent = 0.05\n",
        "        print(self.percent)\n",
        "    def p_upp(self):\n",
        "        self.res = self.salarys / self.work_days * self.actual_days\n",
        "        \n",
        "        self.res += self.percent * self.res\n",
        "        print(self.res)\n",
        "        return self.res\n",
        "    def __del__(self):\n",
        "        print('Attribute deleted.')\n",
        "\n",
        "class storage_emp():\n",
        "    def __init__(self):\n",
        "        hello = input('Use standart options (Y/N)?: ').lower()\n",
        "        self.percent = 0.1\n",
        "        if hello == 'y':\n",
        "            self.salarys = 25000\n",
        "            self.work_days = 25\n",
        "            self.actual_days = 20\n",
        "        else:\n",
        "            self.salarys = float(input('Enter variable salary of the month: '))\n",
        "            self.work_days = int(input('Enter quantity of work days in the month: '))\n",
        "            self.actual_days = int(input('Enter quantity of actual days worked: '))\n",
        "        print(self.percent)\n",
        "    def p_upp(self):\n",
        "        self.res = self.salarys / self.work_days * self.actual_days\n",
        "        print(self.res)\n",
        "        return self.res\n",
        "    def __del__(self):\n",
        "        print('Attribute deleted.')\n",
        "\n",
        "class Employees(trade_emp, storage_emp):\n",
        "    def set_name(self, name='Alex'):\n",
        "        self.name = name"
      ],
      "metadata": {
        "id": "oilgTgUBfwbJ"
      },
      "execution_count": null,
      "outputs": []
    },
    {
      "cell_type": "markdown",
      "source": [
        "4. Решите предыдущую задачу, используя декоратор Sabstractmethod. Имеется \n",
        "класс «мебель». Создайте класс «корпусная мебель», «мягкая мебель» и \n",
        "«кухонная мебель». Определите атрибуты и методы родительского класса и \n",
        "классов-наследников."
      ],
      "metadata": {
        "id": "PIJipX66ktxq"
      }
    },
    {
      "cell_type": "code",
      "source": [
        "class cabinet_furniture():\n",
        "    def set_kind_cabinet(self, var='shelf'):\n",
        "        self.kind = var\n",
        "\n",
        "class soft_furniture():\n",
        "    def set_kind_soft(self, var='sofa'):\n",
        "        self.kind_s = var\n",
        "\n",
        "class kitchen_furniture():\n",
        "    def set_kind_kitchen(self, var='table'):\n",
        "        self.kind_k = var\n",
        "\n",
        "class Furniture(cabinet_furniture, soft_furniture, kitchen_furniture):\n",
        "    def set_company(self, company='OZON'):\n",
        "        self.company = company"
      ],
      "metadata": {
        "id": "A7XIzdagkwjm"
      },
      "execution_count": null,
      "outputs": []
    },
    {
      "cell_type": "code",
      "source": [
        "print(\"cabinet_furniture:\\t\", list(filter(lambda x: \"__\" not in x, dir(cabinet_furniture))))\n",
        "print(\"soft_furniture:\\t\", list(filter(lambda x: \"__\" not in x, dir(soft_furniture))))\n",
        "print(\"kitchen_furniture:\\t\", list(filter(lambda x: \"__\" not in x, dir(kitchen_furniture))))\n",
        "print(\"Furniture:\\t\", list(filter(lambda x: \"__\" not in x, dir(Furniture))))\n",
        "print()"
      ],
      "metadata": {
        "colab": {
          "base_uri": "https://localhost:8080/"
        },
        "id": "WSqUEY2YmU9h",
        "outputId": "3d844f62-1a34-43d3-dec3-8e41dc48257c"
      },
      "execution_count": null,
      "outputs": [
        {
          "output_type": "stream",
          "name": "stdout",
          "text": [
            "cabinet_furniture:\t ['set_kind_cabinet']\n",
            "soft_furniture:\t ['set_kind_soft']\n",
            "kitchen_furniture:\t ['set_kind_kitchen']\n",
            "Furniture:\t ['set_company', 'set_kind_cabinet', 'set_kind_kitchen', 'set_kind_soft']\n",
            "\n"
          ]
        }
      ]
    },
    {
      "cell_type": "markdown",
      "source": [
        "6. Создайте приложение, в котором необходимо разработать базовый класс man. \n",
        "* Объекты класса Man содержат справочную информацию о конкретном \n",
        "человеке (фамилию, инициалы, телефон, адрес, возраст). Создайте два \n",
        "производных от него класса: manager и secretary. \n",
        "\n",
        "* Объекты класса manager дополнительно включают номер отдела и количество подчиненных. Объекты класса manager дополнительно включают номер отдела и количество подчиненных. \n",
        "* Объекты класса secretary дополнительно включают фамилию начальника. \n",
        "\n",
        "Данные о менеджерах и секретарях введите с клавиатуры и выведите \n",
        "на экран дисплея."
      ],
      "metadata": {
        "id": "_FtPLTgtfzGH"
      }
    },
    {
      "cell_type": "code",
      "source": [
        "class Manager():\n",
        "    def __init__(self):\n",
        "        self.department_num = 'None'\n",
        "        self.state_quantity = 'None'\n",
        "    def set_dep_num(self, number):\n",
        "        self.department_num = number\n",
        "    def set_state_quantity(self, quantity):\n",
        "        self.state_quantity = quantity\n",
        "\n",
        "class Secretary():\n",
        "    def __init__(self):\n",
        "        self.chief_name = 'None'\n",
        "    def set_chief_name(self, name):\n",
        "        self.chief_name = name\n",
        "\n",
        "class Man(Manager, Secretary):\n",
        "    def __init__(self):\n",
        "        self.name = input('Enter name of the person: ')\n",
        "        self.surname = input('Enter surname of the person: ')\n",
        "        self.phone = input('Enter phone number: ')\n",
        "        self.adress = input('Input person`s adress: ')\n",
        "        self.age = int(input('Enter age of the person: '))\n",
        "    def set_name(self, names):\n",
        "        self.name = names\n",
        "    def set_surname(self, surnames):\n",
        "        self.surname = surnames\n",
        "    def set_phone(self, phone):\n",
        "        self.phone = phone\n",
        "    def set_adress(self, adress):\n",
        "        self.adress = adress\n",
        "    def set_age(self, age):\n",
        "        self.age = age"
      ],
      "metadata": {
        "id": "PInko2xzp2jo"
      },
      "execution_count": null,
      "outputs": []
    },
    {
      "cell_type": "code",
      "source": [
        "print(\"Man():\\t\", list(filter(lambda x: \"__\" not in x, dir(Man))))"
      ],
      "metadata": {
        "colab": {
          "base_uri": "https://localhost:8080/"
        },
        "id": "8_QSczyDv6w8",
        "outputId": "cd3262a1-8fbf-4153-9d6e-806a08268657"
      },
      "execution_count": null,
      "outputs": [
        {
          "output_type": "stream",
          "name": "stdout",
          "text": [
            "Man():\t ['set_adress', 'set_age', 'set_chief_name', 'set_dep_num', 'set_name', 'set_phone', 'set_state_quantity', 'set_surname']\n"
          ]
        }
      ]
    },
    {
      "cell_type": "markdown",
      "source": [
        "7. Разработайте приложение, в котором опишите базовый класс building. Он \n",
        "хранит этаж, число комнат в квартире, общую площадь квартиры. \n",
        "\n",
        "* Три \n",
        "производных класса house-k, house-p, house-m наследуют класс building. \n",
        "\n",
        "Каждый \n",
        "из них хранит надбавку к цене квадратного метра площади, зависящую от \n",
        "материала дома. \n",
        "\n",
        "* Производный класс office наследует производные классы house\u0002k, house-p, house-m и хранит наличие лоджии и надбавку, связанную с районом \n",
        "города. \n",
        "\n",
        "Вывести на экран стоимость конкретной квартиры. "
      ],
      "metadata": {
        "id": "7YM2gTiNrc2A"
      }
    },
    {
      "cell_type": "code",
      "source": [
        "class Building():\n",
        "    floors = 0\n",
        "    rooms = 0\n",
        "    total_area = 0\n",
        "    cost = 0\n",
        "    def __init__(self, floor=5, rooms=4, total_area=72, cost=10000):\n",
        "        self.floors = floor\n",
        "        self.rooms = rooms\n",
        "        self.total_area = total_area\n",
        "        self.cost = cost\n",
        "\n",
        "class House_k(Building): # k-material group\n",
        "    percent = 0.04\n",
        "    def __init__(self):\n",
        "        self.allowance = Building.cost * self.percent\n",
        "        \n",
        "class House_p(Building): # p-material group\n",
        "    percent = 0.08\n",
        "    def __init__(self):\n",
        "        self.allowance = self.cost * self.percent\n",
        "\n",
        "class House_m(Building): # m-material group\n",
        "    percent = 0.12\n",
        "    allowance = 0\n",
        "    def __init__(self):\n",
        "        self.allowance = Building.cost * self.percent\n",
        "\n",
        "class Office(House_k, House_p, House_m, Building):\n",
        "    allowance_type = 0\n",
        "    def __init__(self, var = 'standart', loft = True):\n",
        "        self.kind = var\n",
        "\n",
        "        if self.kind == 'standart':\n",
        "            allowance_type = self.cost * 0.02\n",
        "        if self.kind == 'comfort':\n",
        "            allowance_type = self.cost * 0.05\n",
        "        else:\n",
        "            allowance_type = 0\n"
      ],
      "metadata": {
        "id": "SevPdU2TqZFF"
      },
      "execution_count": null,
      "outputs": []
    },
    {
      "cell_type": "code",
      "source": [
        "a = Building()\n",
        "a.cost\n",
        "\n",
        "#b = Office()\n",
        "#b.cost\n",
        "\n",
        "print(\"Office():\\t\", list(filter(lambda x: \"__\" not in x, dir(Office))))"
      ],
      "metadata": {
        "colab": {
          "base_uri": "https://localhost:8080/"
        },
        "id": "sYAYfH104tt0",
        "outputId": "ad80bcb5-ff8e-44c1-8ed4-9a42804fa813"
      },
      "execution_count": null,
      "outputs": [
        {
          "output_type": "stream",
          "name": "stdout",
          "text": [
            "Office():\t ['allowance', 'allowance_type', 'cost', 'floors', 'percent', 'rooms', 'total_area']\n"
          ]
        }
      ]
    },
    {
      "cell_type": "markdown",
      "source": [
        "8. В программе рассчитываются площади треугольника и прямоугольника. С \n",
        "этой целью создается абстрактный класс area, в котором сохраняются две \n",
        "размерности фигуры. В производных классах задайте вид конкретных фигур и \n",
        "возвратите их площади.\n",
        "\n",
        "```\n",
        "p = (a+b+c) / 2\n",
        "\n",
        "S = (p(p-a)(p-b)(p-c)) ** 1/2\n",
        "```"
      ],
      "metadata": {
        "id": "M1PgnrczrgeU"
      }
    },
    {
      "cell_type": "code",
      "source": [
        "from math import sqrt\n",
        "\n",
        "class area():\n",
        "    a = 0\n",
        "    b = 0\n",
        "    c = 0\n",
        "    a1 = 0\n",
        "    b1 = 0\n",
        "    def set_triangle(self, a=0, b=0, c=0):\n",
        "        self.a = a\n",
        "        self.b = b\n",
        "        self.c = c\n",
        "    def set_square(self, a1=0, b1=0):\n",
        "        self.a1 = a1\n",
        "        self.b1 = b1"
      ],
      "metadata": {
        "id": "ux3bkdTrBYGn"
      },
      "execution_count": null,
      "outputs": []
    },
    {
      "cell_type": "code",
      "source": [
        "class calculating(area):\n",
        "    def calculate_triangle_area(self):\n",
        "        if self.a != 0 and self.b != 0 and self.c != 0:\n",
        "            p = (self.a + self.b + self.c) / 2\n",
        "            s_triangle = sqrt(p*(p-self.a)*(p-self.b)*(p-self.c))\n",
        "            print(s_triangle)\n",
        "        else:\n",
        "            print('Use *.set_triangle first.')\n",
        "    \n",
        "    def calculate_square_area(self):\n",
        "        if self.a1 != 0 and self.b1 != 0:\n",
        "            s_square = self.a1 * self.b1\n",
        "            print(s_square)\n",
        "        else:\n",
        "            print('Use *.set_square first.')"
      ],
      "metadata": {
        "id": "6Q42Pe6dE1fy"
      },
      "execution_count": null,
      "outputs": []
    },
    {
      "cell_type": "code",
      "source": [
        "c = calculating()\n",
        "c.set_triangle(3,4,5)\n",
        "c.calculate_triangle_area()\n"
      ],
      "metadata": {
        "colab": {
          "base_uri": "https://localhost:8080/"
        },
        "id": "c_Oyf5XbF7d5",
        "outputId": "f03430e4-593f-45f9-f0d0-3d628f44ddf3"
      },
      "execution_count": null,
      "outputs": [
        {
          "output_type": "stream",
          "name": "stdout",
          "text": [
            "3 4 5\n",
            "6.0\n"
          ]
        }
      ]
    },
    {
      "cell_type": "code",
      "source": [
        "c1 = calculating()\n",
        "c1.set_square(3, 4)\n",
        "c1.calculate_square_area()"
      ],
      "metadata": {
        "colab": {
          "base_uri": "https://localhost:8080/"
        },
        "id": "pKHW4_DeGejk",
        "outputId": "a3de684b-7667-4445-b285-2b930fb79f7f"
      },
      "execution_count": null,
      "outputs": [
        {
          "output_type": "stream",
          "name": "stdout",
          "text": [
            "3 4\n",
            "12\n"
          ]
        }
      ]
    }
  ]
}