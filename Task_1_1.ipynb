{
  "nbformat": 4,
  "nbformat_minor": 0,
  "metadata": {
    "colab": {
      "provenance": [],
      "authorship_tag": "ABX9TyP2g5cpFItqr17QcwTseCFG",
      "include_colab_link": true
    },
    "kernelspec": {
      "name": "python3",
      "display_name": "Python 3"
    },
    "language_info": {
      "name": "python"
    }
  },
  "cells": [
    {
      "cell_type": "markdown",
      "metadata": {
        "id": "view-in-github",
        "colab_type": "text"
      },
      "source": [
        "<a href=\"https://colab.research.google.com/github/Iv0cheer/Second-Half/blob/main/Task_1_1.ipynb\" target=\"_parent\"><img src=\"https://colab.research.google.com/assets/colab-badge.svg\" alt=\"Open In Colab\"/></a>"
      ]
    },
    {
      "cell_type": "markdown",
      "source": [
        "# Creating class \"A\" with privite variables & two attributes"
      ],
      "metadata": {
        "id": "SYfiQcnJbysG"
      }
    },
    {
      "cell_type": "code",
      "execution_count": null,
      "metadata": {
        "colab": {
          "base_uri": "https://localhost:8080/"
        },
        "id": "LMPHomg1UwDJ",
        "outputId": "fdd7cc44-2279-4df0-ade0-0505585ca7f6"
      },
      "outputs": [
        {
          "output_type": "stream",
          "name": "stdout",
          "text": [
            "Dividing: 4.0\n",
            "Reducing: 15\n"
          ]
        }
      ],
      "source": [
        "class A():\n",
        "    \"\"\"\n",
        "    Class that divides and reduce numbers.\n",
        "    \"\"\"\n",
        "\n",
        "    __a = float() # Privite variable\n",
        "    __b = float() # Privite variable\n",
        "    def __init__(self, a, b):\n",
        "        self.a = a\n",
        "        self.b = b\n",
        "    \n",
        "    def divide(self):\n",
        "        \"\"\"\n",
        "        Function divides first number by second number.\n",
        "        \"\"\"\n",
        "        c = self.a / self.b\n",
        "        return c\n",
        "    \n",
        "    def reduce(self):\n",
        "        \"\"\"\n",
        "        Function reduce first number by second number.\n",
        "        \"\"\"\n",
        "        c = self.a - self.b\n",
        "        return c\n",
        "    \n",
        "    def __del__(self):\n",
        "        print('Process deleted.')\n",
        "\n",
        "c1 = A(20, 5)\n",
        "print(f'Dividing: {c1.divide()}')\n",
        "print(f'Reducing: {c1.reduce()}')"
      ]
    },
    {
      "cell_type": "markdown",
      "source": [
        "# Creating entering point."
      ],
      "metadata": {
        "id": "QLuRNgesbtMx"
      }
    },
    {
      "cell_type": "code",
      "source": [
        "class Program():\n",
        "    \"\"\"\n",
        "    Class that calling class \"A()\"\n",
        "    \"\"\"\n",
        "    def __init__(self):\n",
        "        c2 = A(20, 5)\n",
        "        print(c2.divide())\n",
        "        print(c2.reduce())\n",
        "\n",
        "if __name__ == \"__main__\":\n",
        "    f1 = Program()\n",
        "    del f1"
      ],
      "metadata": {
        "colab": {
          "base_uri": "https://localhost:8080/"
        },
        "id": "lSP1CmGOX57_",
        "outputId": "e7cf1a55-83da-442a-ff80-cf4e77f0322b"
      },
      "execution_count": null,
      "outputs": [
        {
          "output_type": "stream",
          "name": "stdout",
          "text": [
            "4.0\n",
            "15\n",
            "Process deleted.\n"
          ]
        }
      ]
    }
  ]
}