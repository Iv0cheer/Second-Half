{
  "nbformat": 4,
  "nbformat_minor": 0,
  "metadata": {
    "colab": {
      "provenance": [],
      "authorship_tag": "ABX9TyNK2mmQ6OFqpdgqQu89m1Eg",
      "include_colab_link": true
    },
    "kernelspec": {
      "name": "python3",
      "display_name": "Python 3"
    },
    "language_info": {
      "name": "python"
    }
  },
  "cells": [
    {
      "cell_type": "markdown",
      "metadata": {
        "id": "view-in-github",
        "colab_type": "text"
      },
      "source": [
        "<a href=\"https://colab.research.google.com/github/Iv0cheer/Second-Half/blob/main/Task_4_1.ipynb\" target=\"_parent\"><img src=\"https://colab.research.google.com/assets/colab-badge.svg\" alt=\"Open In Colab\"/></a>"
      ]
    },
    {
      "cell_type": "markdown",
      "source": [
        "# **Упражнения для самостоятельного выполнения по теме «Полиморфизм»**\n",
        "Построить класс 1-го уровня с указанными в задании полями и методами:\n",
        "- конструктор,\n",
        "- функция, которая определяет “качество” (Q ) по заданной формуле,\n",
        "- вывод информации об объекте.\n",
        "\n",
        "Построить класс-потомок, который содержит дополнительное поле P и\n",
        "перекрывает функцию качества (Q ), выполняя вычисление по новой формуле\n",
        "(Qp)."
      ],
      "metadata": {
        "id": "KGPWRDhDtaAj"
      }
    },
    {
      "cell_type": "markdown",
      "source": [
        "## **Поля и функция (Q) класса 1-го уровня**\n",
        "\n",
        "Оператор мобильной связи:\n",
        "- название оператора,\n",
        "- стоимость 1 минуты разговора,\n",
        "- площадь покрытия.\n",
        "\n",
        "Q = 100 * площадь покрытия / стоимость 1\n",
        "минуты разговора"
      ],
      "metadata": {
        "id": "WwQ1i96qt9l1"
      }
    },
    {
      "cell_type": "markdown",
      "source": [
        "## **Поле и функция (Qp) класса-потомка**\n",
        "\n",
        "P: наличие платы за каждое соединение\n",
        "\n",
        "```\n",
        "Qp = 0,7*Q, если Р - истина,\n",
        "иначе Qp = 1,5*Q\n",
        "```\n",
        "\n"
      ],
      "metadata": {
        "id": "AiQpUkXDuFxP"
      }
    },
    {
      "cell_type": "markdown",
      "source": [
        "## **Выполнение задания:**"
      ],
      "metadata": {
        "id": "IaTCMF76uow9"
      }
    },
    {
      "cell_type": "code",
      "execution_count": 3,
      "metadata": {
        "colab": {
          "base_uri": "https://localhost:8080/"
        },
        "id": "7Dy5ynAWseoD",
        "outputId": "6f7bb57d-e944-467f-f0b9-f23d112d919d"
      },
      "outputs": [
        {
          "output_type": "stream",
          "name": "stdout",
          "text": [
            "10012.0\n",
            "8750.0\n"
          ]
        }
      ],
      "source": [
        "class Operator:\n",
        "    def __init__(self, name, mincost, coverage):\n",
        "        if not isinstance(name, str):\n",
        "            raise TypeError\n",
        "        elif not (isinstance(mincost, float) or isinstance(mincost, int)):\n",
        "            raise AssertionError\n",
        "        elif not (isinstance(coverage, float) or isinstance(coverage, int)):\n",
        "            raise AssertionError\n",
        "        else:\n",
        "            self.name = name\n",
        "            self.mincost = mincost\n",
        "            self.coverage = coverage\n",
        "    \n",
        "    def q(self):\n",
        "        return 100 * self.coverage / self.mincost\n",
        "\n",
        "class Operator_new(Operator):\n",
        "    def q(self, is_valid):\n",
        "        if isinstance(is_valid, bool):\n",
        "            res = super().q()\n",
        "            if is_valid:\n",
        "                qp = 0.7 * res\n",
        "            else:\n",
        "                qp = 1.5 * res\n",
        "            return qp\n",
        "        else:\n",
        "            print('is_valid must be `True` or `False`.')\n",
        "\n",
        "try:\n",
        "    f1 = Operator('Beeline', 2.5, 250.3) # Output: 10012.0\n",
        "    print(f1.q())\n",
        "\n",
        "    f2 = Operator_new('MTS', 2.0, 250) # Output: \n",
        "    print(f2.q(True))\n",
        "except TypeError:\n",
        "    print('Name is not string. Please check your data.')\n",
        "except AssertionError:\n",
        "    print('Cost for minute or coverage area is not float')\n"
      ]
    }
  ]
}