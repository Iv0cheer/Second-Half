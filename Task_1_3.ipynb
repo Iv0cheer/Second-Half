{
  "nbformat": 4,
  "nbformat_minor": 0,
  "metadata": {
    "colab": {
      "provenance": [],
      "collapsed_sections": [
        "CAZ5ySAI1IID",
        "ABLYc22p6TDF"
      ],
      "authorship_tag": "ABX9TyOvusxdCPolVMCSKcq+uSMx",
      "include_colab_link": true
    },
    "kernelspec": {
      "name": "python3",
      "display_name": "Python 3"
    },
    "language_info": {
      "name": "python"
    }
  },
  "cells": [
    {
      "cell_type": "markdown",
      "metadata": {
        "id": "view-in-github",
        "colab_type": "text"
      },
      "source": [
        "<a href=\"https://colab.research.google.com/github/Iv0cheer/Second-Half/blob/main/Task_1_3.ipynb\" target=\"_parent\"><img src=\"https://colab.research.google.com/assets/colab-badge.svg\" alt=\"Open In Colab\"/></a>"
      ]
    },
    {
      "cell_type": "markdown",
      "source": [
        "# Task 1.3.1\n",
        "\n",
        "**1.3.1** Создайте для класса «студент» функцию, которая считает средний балл по трем дисциплинам, оценки по которым вводятся пользователям.\n",
        "\n",
        "Реализуйте программу двумя способами: без использования конструктора __init__ и с ним"
      ],
      "metadata": {
        "id": "CAZ5ySAI1IID"
      }
    },
    {
      "cell_type": "code",
      "execution_count": null,
      "metadata": {
        "colab": {
          "base_uri": "https://localhost:8080/"
        },
        "id": "5UF0P2DwzZdK",
        "outputId": "5c8cf1a8-c7c4-4753-8dc6-6b08d0a81180"
      },
      "outputs": [
        {
          "name": "stdout",
          "output_type": "stream",
          "text": [
            "Enter your marks with spaces: 5 5 5\n"
          ]
        },
        {
          "output_type": "execute_result",
          "data": {
            "text/plain": [
              "5.0"
            ]
          },
          "metadata": {},
          "execution_count": 16
        }
      ],
      "source": [
        "class Student:\n",
        "    def __init__(self, disc1, disc2, disc3):\n",
        "        self.disc1 = disc1\n",
        "        self.disc2 = disc2\n",
        "        self.disc3 = disc3\n",
        "    \n",
        "    def val(self):\n",
        "        return round((self.disc1 + self.disc2 + self.disc3) / 3, 2)\n",
        "\n",
        "first, second, third = map(int, input('Enter your marks with spaces: ').split())\n",
        "a = Student(first, second, third)\n",
        "a.val()"
      ]
    },
    {
      "cell_type": "code",
      "source": [
        "class Student:\n",
        "    disc1 = 0\n",
        "    disc2 = 0\n",
        "    disc3 = 0\n",
        "    def val(self):\n",
        "        return round((self.disc1 + self.disc2 + self.disc3) / 3, 2)\n",
        "\n",
        "b = Student()\n",
        "first, second, third = map(int, input('Enter your marks with spaces: ').split())\n",
        "b.disc1 = first\n",
        "b.disc2 = second\n",
        "b.disc3 = third\n",
        "\n",
        "b.val()"
      ],
      "metadata": {
        "colab": {
          "base_uri": "https://localhost:8080/"
        },
        "id": "4bFiCEJP3cd8",
        "outputId": "90a2a744-a5f5-4f92-962a-562a9df39df5"
      },
      "execution_count": null,
      "outputs": [
        {
          "name": "stdout",
          "output_type": "stream",
          "text": [
            "Enter your marks with spaces: 5 5 5\n"
          ]
        },
        {
          "output_type": "execute_result",
          "data": {
            "text/plain": [
              "5.0"
            ]
          },
          "metadata": {},
          "execution_count": 19
        }
      ]
    },
    {
      "cell_type": "markdown",
      "source": [
        "# Task 1.3.2 + 1.3.3\n",
        "\n",
        "**1.3.2** Создайте функцию, которая считает и выводит в файл заработную\n",
        "плату сотрудника склада в зависимости от количества отработанных дней в\n",
        "месяце. Оклад является защищаемым атрибутом класса «сотрудник». \n",
        "\n",
        "**1.3.3** Используя результат предыдущего задания, создайте функцию\n",
        "начисления премии сотруднику, вычисляемую как 1% от уровня заработной\n",
        "платы. "
      ],
      "metadata": {
        "id": "ABLYc22p6TDF"
      }
    },
    {
      "cell_type": "code",
      "source": [
        "# Зарплата = Размер оклада / Количество рабочих дней в месяце х Фактически отработанные дни.\n",
        "\n",
        "class Employee:\n",
        "    __oklad = float(input('Enter variable salary of the month: '))\n",
        "    work_days = int(input('Enter quantity of work days in the month: '))\n",
        "    fact_work = int(input('Enter quantity of actual days worked: '))\n",
        "    res = 0\n",
        "    def act_salary(self):\n",
        "        self.res = self.__oklad / self.work_days * self.fact_work\n",
        "        a = open('salary_1_3_2', 'w') # Open new file to write new data in it\n",
        "        a.write('Salary = ' + str(self.res) + '\\n') # Writing data in it\n",
        "        a.close()\n",
        "        print('Code done. File saved.')\n",
        "        return self.res\n",
        "\n",
        "    def award(self):\n",
        "        i = self.act_salary()\n",
        "        self.res += (self.res * 0.01)\n",
        "        a = open('salary_1_3_2', 'a')\n",
        "        a.write('Salary + award = ' + str(self.res) + '\\n')\n",
        "        a.close()\n",
        "    \n",
        "    def __del__(self):\n",
        "        print('Process deleted.')\n",
        "\n",
        "if __name__ == \"__main__\":\n",
        "    c = Employee()\n",
        "    c.award()\n",
        "    del c"
      ],
      "metadata": {
        "colab": {
          "base_uri": "https://localhost:8080/"
        },
        "id": "RVb6NqtM6Vpf",
        "outputId": "bc432cfd-4a0d-4c28-bf99-14d51dc1cd30"
      },
      "execution_count": null,
      "outputs": [
        {
          "output_type": "stream",
          "name": "stdout",
          "text": [
            "Enter variable salary of the month: 25000\n",
            "Enter quantity of work days in the month: 25\n",
            "Enter quantity of actual days worked: 20\n",
            "Code done. File saved.\n",
            "20200.0\n",
            "Process deleted.\n"
          ]
        }
      ]
    },
    {
      "cell_type": "code",
      "source": [
        "# Зарплата = Размер оклада / Количество рабочих дней в месяце х Фактически отработанные дни.\n",
        "\n",
        "class Employee:\n",
        "    __oklad = float(input('Enter variable salary of the month: '))\n",
        "    work_days = int(input('Enter quantity of work days in the month: '))\n",
        "    fact_work = int(input('Enter quantity of actual days worked: '))\n",
        "    res = 0\n",
        "    def act_salary(self):\n",
        "        self.res = self.__oklad / self.work_days * self.fact_work\n",
        "        a = open('salary_1_3_2', 'w') # Open new file to write new data in it\n",
        "        a.write('Salary = ' + str(self.res) + '\\n') # Writing data in it\n",
        "        a.close()\n",
        "        print('Code done. File saved.')\n",
        "        return self.res\n",
        "\n",
        "    def award(self):\n",
        "        i = self.act_salary()\n",
        "        self.res += (self.res * 0.01)\n",
        "        a = open('salary_1_3_2', 'a')\n",
        "        a.write('Salary + award = ' + str(self.res) + '\\n')\n",
        "        a.close()\n",
        "    \n",
        "    def __del__(self):\n",
        "        print('Process deleted.')\n",
        "\n",
        "if __name__ == \"__main__\":\n",
        "    c = Employee()\n",
        "    c.award()\n",
        "    del c"
      ],
      "metadata": {
        "id": "J35Jo1eiF5LS"
      },
      "execution_count": null,
      "outputs": []
    },
    {
      "cell_type": "markdown",
      "source": [
        "# Task 1.3.4\n",
        "\n",
        "**1.3.4** Модифицируйте предыдущую программу, позволяющую вычислять\n",
        "заработную плату, премию для сотрудников и определять величину общего\n",
        "фонда заработной платы как сумму заработной платы и премий, деленную на\n",
        "коэффициент 0,7. \n",
        "\n",
        "Данные о сотрудниках вводятся через цикл while и\n",
        "записываются в соответствующий файл .txt или .xlsx."
      ],
      "metadata": {
        "id": "NwiFrjukD3J5"
      }
    },
    {
      "cell_type": "code",
      "source": [
        "# Зарплата = Размер оклада / Количество рабочих дней в месяце х Фактически отработанные дни.\n",
        "\n",
        "class Employee:\n",
        "    res = 0\n",
        "    def __init__(self):\n",
        "        self.oklad = float(input('Enter variable salary of the month: '))\n",
        "        self.work_days = int(input('Enter quantity of work days in the month: '))\n",
        "        self.fact_work = int(input('Enter quantity of actual days worked: '))\n",
        "        \n",
        "    def act_salary(self):\n",
        "        self.res = self.oklad / self.work_days * self.fact_work\n",
        "        a = open('salary_1_3_2', 'w') # Open new file to write new data in it\n",
        "        a.write(str(self.res) + '\\n') # Writing data in it\n",
        "        a.close()\n",
        "        return self.res\n",
        "\n",
        "    def award(self):\n",
        "        i = self.act_salary()\n",
        "        self.res += (self.res * 0.01)\n",
        "        a = open('salary_1_3_2', 'w')\n",
        "        a.write(str(self.res) + '\\n')\n",
        "        a.close()\n",
        "        return self.res\n",
        "\n",
        "    def __del__(self):\n",
        "        print('Process deleted.')\n",
        "\n",
        "quan = int(input('Enter quantity of the employees: '))\n",
        "x = 0\n",
        "open('salary_funds', 'w')\n",
        "while x < quan:\n",
        "    x += 1\n",
        "    f = Employee()\n",
        "    res = f.award()\n",
        "    listing = open('salary_funds', 'a')\n",
        "    listing.write(str(res) + '\\n')\n",
        "    listing.close()\n",
        "    del f\n",
        "\n",
        "def salary_f(filename):\n",
        "    resource = open(filename, 'r')\n",
        "    a = resource.read()\n",
        "    open(filename).read().split('\\n')\n",
        "\n",
        "    result = []\n",
        "    with open(filename) as f:\n",
        "        for line in f:\n",
        "            result.append([float(x) for x in line.split()])\n",
        "\n",
        "    res1 = []\n",
        "    for x in result:\n",
        "        for y in x:\n",
        "            res1.append(y)\n",
        "    sum_salary = sum(res1)\n",
        "\n",
        "    listing = open('salary_funds', 'a')\n",
        "    listing.write('sum_salary = ' + str(sum_salary) + '\\n')\n",
        "    listing.close()\n",
        "    return sum_salary\n",
        "\n",
        "test = salary_f('salary_funds')\n",
        "\n",
        "print('sum_salary = ', test)"
      ],
      "metadata": {
        "colab": {
          "base_uri": "https://localhost:8080/"
        },
        "id": "8E5hgf8EAPEz",
        "outputId": "b95bb4b0-81e2-4578-c664-629b559a918c"
      },
      "execution_count": 12,
      "outputs": [
        {
          "output_type": "stream",
          "name": "stdout",
          "text": [
            "Enter quantity of the employees: 3\n",
            "Enter variable salary of the month: 25000\n",
            "Enter quantity of work days in the month: 25\n",
            "Enter quantity of actual days worked: 20\n",
            "Process deleted.\n",
            "Enter variable salary of the month: 20000\n",
            "Enter quantity of work days in the month: 25\n",
            "Enter quantity of actual days worked: 20\n",
            "Process deleted.\n",
            "Enter variable salary of the month: 22500\n",
            "Enter quantity of work days in the month: 25\n",
            "Enter quantity of actual days worked: 20\n",
            "Process deleted.\n",
            "sum_salary =  54540.0\n"
          ]
        }
      ]
    },
    {
      "cell_type": "markdown",
      "source": [
        "# Task 1.3.5\n",
        "\n",
        "**1.3.5** Используя технологию перегрузки операторов, измените\n",
        "__truediv__(деление) так, чтобы числителем был знаменатель и наоборот.\n",
        "Аналогичные процедуры осуществите для операторов\n",
        "__floordiv__(целочисленное деление), __mod__(остаток от деления). Числа\n",
        "вводят пользователи. Предусмотрите отработку исключений."
      ],
      "metadata": {
        "id": "87nupJf3GTOi"
      }
    },
    {
      "cell_type": "code",
      "source": [
        "class Human():\n",
        "    def __init__(self, x):\n",
        "        self.ui = float(x)\n",
        "    def __truediv__(self, y):\n",
        "        print('unusual true division process...')\n",
        "        return y / self.ui\n",
        "    def __floordiv__(self, z):\n",
        "        print('unusual floor division process...')\n",
        "        return int(z // self.ui)\n",
        "    def __mod__(self, p):\n",
        "        print('unusual  division process...')\n",
        "        return int(p % self.ui)\n",
        "    \n",
        "\n",
        "a = Human(6)\n",
        "\n",
        "print(a / 3) # must print 0.5\n",
        "print(a // 13) # must print 2\n",
        "print(a % 10) # must print 4"
      ],
      "metadata": {
        "id": "-hstPruNGXmh",
        "colab": {
          "base_uri": "https://localhost:8080/"
        },
        "outputId": "5aa83d1f-7c68-4da0-af7e-205cc00463b0"
      },
      "execution_count": 20,
      "outputs": [
        {
          "output_type": "stream",
          "name": "stdout",
          "text": [
            "new true division process...\n",
            "0.5\n",
            "new floor division process...\n",
            "2\n",
            "new  division process...\n",
            "4\n"
          ]
        }
      ]
    }
  ]
}