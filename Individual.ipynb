{
  "nbformat": 4,
  "nbformat_minor": 0,
  "metadata": {
    "colab": {
      "provenance": [],
      "authorship_tag": "ABX9TyMFXlTEMuv7/J6ruEmAU9Uh",
      "include_colab_link": true
    },
    "kernelspec": {
      "name": "python3",
      "display_name": "Python 3"
    },
    "language_info": {
      "name": "python"
    }
  },
  "cells": [
    {
      "cell_type": "markdown",
      "metadata": {
        "id": "view-in-github",
        "colab_type": "text"
      },
      "source": [
        "<a href=\"https://colab.research.google.com/github/Iv0cheer/Second-Half/blob/main/Individual.ipynb\" target=\"_parent\"><img src=\"https://colab.research.google.com/assets/colab-badge.svg\" alt=\"Open In Colab\"/></a>"
      ]
    },
    {
      "cell_type": "code",
      "execution_count": 1,
      "metadata": {
        "id": "HY7VJ2_hDqF0"
      },
      "outputs": [],
      "source": [
        "class Album:\n",
        "    def __init__(self, name_album, group):\n",
        "        self.name_alb = name_album\n",
        "        self.group = group\n",
        "        self.playlist = []\n",
        "        self.durat = 0\n",
        "        self.tr_number = 1\n",
        "\n",
        "    def get_tracks(self):\n",
        "        print('---' * 20)\n",
        "        print(f'Список треков в альбоме `{self.name_alb}` от {self.group}')\n",
        "        for i in self.playlist:\n",
        "            print(i)\n",
        "        print('---' * 20)\n",
        "\n",
        "    def add_tracks(self, name_tr, duration):\n",
        "        self.playlist.append(f'<{name_tr} - {duration}>')\n",
        "        self.durat += duration\n",
        "    \n",
        "    def rm_track(self, number):\n",
        "        self.playlist.pop(number-1)\n",
        "    \n",
        "    def get_duration(self):\n",
        "        print(f'Общая длительность: {self.durat}')\n",
        "\n",
        "\n",
        "class Track:\n",
        "    def __init__(self, name_tr, duration):\n",
        "        self.name_tr = name_tr\n",
        "        self.duration = duration\n",
        "        assert type(duration) == int and type(name_tr) == str\n",
        "\n",
        "    def show(self):\n",
        "        print(f'<{self.name_tr} - {self.duration}>')"
      ]
    },
    {
      "cell_type": "code",
      "source": [
        "try:\n",
        "    t1 = Track('Hearthens', 4)\n",
        "    t2 = Track('Stressed out', 3)\n",
        "    t3 = Track('Ride', 2)\n",
        "except AssertionError:\n",
        "    print('Duration must be integer, name must be string')\n",
        "  \n",
        "a1 = Album('Blurryface', 'Twenty One Pilots ')\n",
        "\n",
        "a1.add_tracks(t1.name_tr, t1.duration)\n",
        "a1.add_tracks(t2.name_tr, t2.duration)\n",
        "a1.add_tracks(t3.name_tr, t3.duration)\n",
        "\n",
        "a1.get_tracks()\n",
        "a1.get_duration()"
      ],
      "metadata": {
        "colab": {
          "base_uri": "https://localhost:8080/"
        },
        "id": "wZAoL5PNDs_X",
        "outputId": "5409154b-2c30-44ad-84b1-6cb094907a23"
      },
      "execution_count": 2,
      "outputs": [
        {
          "output_type": "stream",
          "name": "stdout",
          "text": [
            "------------------------------------------------------------\n",
            "Список треков в альбоме `Blurryface` от Twenty One Pilots \n",
            "<Hearthens - 4>\n",
            "<Stressed out - 3>\n",
            "<Ride - 2>\n",
            "------------------------------------------------------------\n",
            "Общая длительность: 9\n"
          ]
        }
      ]
    },
    {
      "cell_type": "code",
      "source": [
        "try:\n",
        "    t21 = Track('Continual', 4)\n",
        "    t22 = Track('Symphony', 3)\n",
        "    t23 = Track('Younger', 3)\n",
        "except AssertionError:\n",
        "    print('Duration must be integer, name must be string')\n",
        "\n",
        "a2 = Album('My life', 'Imagine Dragons')\n",
        "\n",
        "a2.add_tracks(t21.name_tr, t21.duration)\n",
        "a2.add_tracks(t22.name_tr, t22.duration)\n",
        "a2.add_tracks(t23.name_tr, t23.duration)\n",
        "\n",
        "a2.get_tracks()\n",
        "a2.get_duration()"
      ],
      "metadata": {
        "colab": {
          "base_uri": "https://localhost:8080/"
        },
        "id": "BqtYTmbiD0Iw",
        "outputId": "e9b8e846-98a0-4c4c-d105-1e800c24f6d6"
      },
      "execution_count": 3,
      "outputs": [
        {
          "output_type": "stream",
          "name": "stdout",
          "text": [
            "------------------------------------------------------------\n",
            "Список треков в альбоме `My life` от Imagine Dragons\n",
            "<Continual - 4>\n",
            "<Symphony - 3>\n",
            "<Younger - 3>\n",
            "------------------------------------------------------------\n",
            "Общая длительность: 10\n"
          ]
        }
      ]
    },
    {
      "cell_type": "code",
      "source": [
        "a2.rm_track(1)\n",
        "a2.get_tracks()"
      ],
      "metadata": {
        "colab": {
          "base_uri": "https://localhost:8080/"
        },
        "id": "_hS5-wSLGIcF",
        "outputId": "49a078f1-53f8-4c12-aef4-382cf5c1474f"
      },
      "execution_count": 4,
      "outputs": [
        {
          "output_type": "stream",
          "name": "stdout",
          "text": [
            "------------------------------------------------------------\n",
            "Список треков в альбоме `My life` от Imagine Dragons\n",
            "<Symphony - 3>\n",
            "<Younger - 3>\n",
            "------------------------------------------------------------\n"
          ]
        }
      ]
    }
  ]
}