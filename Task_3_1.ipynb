{
  "nbformat": 4,
  "nbformat_minor": 0,
  "metadata": {
    "colab": {
      "provenance": [],
      "authorship_tag": "ABX9TyNQyWH38j3k8i3pvauWey2c",
      "include_colab_link": true
    },
    "kernelspec": {
      "name": "python3",
      "display_name": "Python 3"
    },
    "language_info": {
      "name": "python"
    }
  },
  "cells": [
    {
      "cell_type": "markdown",
      "metadata": {
        "id": "view-in-github",
        "colab_type": "text"
      },
      "source": [
        "<a href=\"https://colab.research.google.com/github/Iv0cheer/Second-Half/blob/main/Task_3_1.ipynb\" target=\"_parent\"><img src=\"https://colab.research.google.com/assets/colab-badge.svg\" alt=\"Open In Colab\"/></a>"
      ]
    },
    {
      "cell_type": "markdown",
      "source": [
        "### **Вариант №2**\n",
        "Описать класс, реализующий шестнадцатеричный счетчик, который может\n",
        "увеличивать или уменьшать свое значение на единицу в заданном диапазоне.\n",
        "Предусмотреть инициализацию счетчика значениями по умолчанию и\n",
        "произвольными значениями. Счетчик имеет два метода: увеличения и\n",
        "уменьшения, — и свойство, позволяющее получить его текущее состояние. При\n",
        "выходе за границы диапазона выбрасываются исключения.\n",
        "Написать программу, демонстрирующую все разработанные элементы\n",
        "класса."
      ],
      "metadata": {
        "id": "GscC6jgiK0em"
      }
    },
    {
      "cell_type": "markdown",
      "source": [
        "# **Способ №1 (без скрытых полей)**"
      ],
      "metadata": {
        "id": "MLLtOVH9ToHC"
      }
    },
    {
      "cell_type": "code",
      "execution_count": 48,
      "metadata": {
        "colab": {
          "base_uri": "https://localhost:8080/"
        },
        "id": "HpWzM-SeGqPR",
        "outputId": "4dd47b22-0044-4cdc-c1d8-e94ee10e33fc"
      },
      "outputs": [
        {
          "output_type": "stream",
          "name": "stdout",
          "text": [
            "0x2\n",
            "0x1\n",
            "0x2\n",
            "0x3\n",
            "0x4\n",
            "0x5\n",
            "0x6\n",
            "0x7\n",
            "0x8\n",
            "Process stopped. Actual hex is out of range.\n"
          ]
        }
      ],
      "source": [
        "class Count:\n",
        "    def __init__(self, a, b):\n",
        "        if type(a) and type(b) == int:\n",
        "            self.a = a\n",
        "            self.b = b\n",
        "            self.actual = self.a\n",
        "        else:\n",
        "            raise\n",
        "\n",
        "    def decrease(self):\n",
        "        if self.actual > self.a:\n",
        "            self.actual -= 1\n",
        "            self.res = hex(self.actual)\n",
        "            return self.res\n",
        "        return 'Process stopped. Actual hex is out of range.'\n",
        "\n",
        "    def increase(self):\n",
        "        if self.actual < self.b:\n",
        "            self.actual += 1\n",
        "            self.res = hex(self.actual)\n",
        "            return self.res\n",
        "        return 'Process stopped. Actual hex is out of range.'\n",
        "\n",
        "    def __del__(self):\n",
        "        print('Proccess deleted.')\n",
        "\n",
        "try:\n",
        "    f1 = Count(1, 8)\n",
        "    print(f1.increase()) # 0x2\n",
        "    print(f1.decrease()) # 0x1\n",
        "    print(f1.increase()) # 0x2\n",
        "    print(f1.increase()) # 0x3\n",
        "    print(f1.increase()) # 0x4\n",
        "    print(f1.increase()) # 0x5\n",
        "    print(f1.increase()) # 0x6\n",
        "    print(f1.increase()) # 0x7\n",
        "    print(f1.increase()) # 0x8\n",
        "    print(f1.increase()) # Out of range\n",
        "except:\n",
        "    print('Process stopped. Invalid Input, please, use int value only.')\n"
      ]
    },
    {
      "cell_type": "markdown",
      "source": [
        "# **Способ №2 (со скрытыми полями)**"
      ],
      "metadata": {
        "id": "8ILM5vdLTrtw"
      }
    },
    {
      "cell_type": "code",
      "source": [
        "class Count2:\n",
        "    __result = 0\n",
        "    def __init__(self, a, b):\n",
        "        if type(a) and type(b) == int:\n",
        "            self.a = a\n",
        "            self.b = b\n",
        "            Count2.__result = self.a\n",
        "        else:\n",
        "            raise TypeError\n",
        "\n",
        "    def increase(self):\n",
        "        if Count2.__result < self.b:\n",
        "            Count2.__result += 1\n",
        "            self.res = hex(Count2.__result)\n",
        "            return self.res\n",
        "        return 'Process stopped. Actual hex is out of range.'\n",
        "\n",
        "    def decrease(self):\n",
        "        if Count2.__result < self.b:\n",
        "            Count2.__result -= 1\n",
        "            self.res = hex(Count2.__result)\n",
        "            return self.res\n",
        "        return 'Process stopped. Actual hex is out of range.'\n",
        "\n",
        "    def __del__(self):\n",
        "        print('Proccess deleted.')\n",
        "\n",
        "try:\n",
        "    f2 = Count2(2, 9)\n",
        "    print(f2.increase()) # 0x3\n",
        "    print(f2.decrease()) # 0x2\n",
        "    print(f2.increase()) # 0x3\n",
        "    print(f2.increase()) # 0x4\n",
        "    print(f2.increase()) # 0x5\n",
        "    print(f2.increase()) # 0x6\n",
        "    print(f2.increase()) # 0x7\n",
        "    print(f2.increase()) # 0x8\n",
        "    print(f2.increase()) # 0x9\n",
        "    print(f2.increase()) # Out of range\n",
        "except TypeError:\n",
        "    print('Process stopped. Invalid Input, please, use int value only.')\n"
      ],
      "metadata": {
        "colab": {
          "base_uri": "https://localhost:8080/"
        },
        "id": "kyapoaJlQ6uT",
        "outputId": "2b14450c-d4f7-4df1-b063-5ec54c9fe0ae"
      },
      "execution_count": 49,
      "outputs": [
        {
          "output_type": "stream",
          "name": "stdout",
          "text": [
            "0x3\n",
            "0x2\n",
            "0x3\n",
            "0x4\n",
            "0x5\n",
            "0x6\n",
            "0x7\n",
            "0x8\n",
            "0x9\n",
            "Process stopped. Actual hex is out of range.\n",
            "Proccess deleted.\n"
          ]
        }
      ]
    }
  ]
}